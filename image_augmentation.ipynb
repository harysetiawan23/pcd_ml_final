{
 "cells": [
  {
   "cell_type": "code",
   "execution_count": 5,
   "metadata": {},
   "outputs": [],
   "source": [
    "from imutils import paths\n",
    "import skimage\n",
    "import matplotlib.pyplot as plt\n",
    "import cv2 \n",
    "import os"
   ]
  },
  {
   "cell_type": "code",
   "execution_count": 6,
   "metadata": {},
   "outputs": [
    {
     "name": "stdout",
     "output_type": "stream",
     "text": [
      "[0, 30, 60, 90, 120, 150, 180, 210, 240, 270, 300, 330]\n"
     ]
    },
    {
     "data": {
      "text/plain": [
       "<Figure size 2592x864 with 0 Axes>"
      ]
     },
     "metadata": {},
     "output_type": "display_data"
    }
   ],
   "source": [
    "image_test_list = list(paths.list_images(\"Images/test\"))\n",
    "image_train_list = list(paths.list_images(\"Images/train\"))\n",
    "rotate_angle = list(range(0,360,30))\n",
    "print(rotate_angle)\n",
    "plt.figure(figsize=(36,12))\n",
    "columns = 3\n",
    "rows = 3"
   ]
  },
  {
   "cell_type": "code",
   "execution_count": 7,
   "metadata": {},
   "outputs": [],
   "source": [
    "for image_path in image_train_list:\n",
    "    images = []\n",
    "    image = cv2.imread(image_path,flags=cv2.IMREAD_COLOR)\n",
    "    image = cv2.cvtColor(image,cv2.COLOR_BGR2RGB)\n",
    "\n",
    "\n",
    "    for i,angle in enumerate(rotate_angle):\n",
    "        rotate_img = skimage.transform.rotate(image=image,angle=angle,resize=False,mode='symmetric')\n",
    "        horizontal_flip = rotate_img[:, ::-1]\n",
    "        vertical_flip = rotate_img[::-1, :]\n",
    "        images.append(rotate_img)\n",
    "        images.append(horizontal_flip)\n",
    "        images.append(vertical_flip)\n",
    "        \n",
    "    for i,image in  enumerate(images):\n",
    "        # plt.subplot(rows, columns, i+1)\n",
    "        # plt.axis(False)\n",
    "        # plt.grid(True)\n",
    "        # plt.imshow(rotate_img,cmap='gray')\n",
    "\n",
    "        # plt.subplot(rows, columns, i+1)\n",
    "        # plt.axis(False)\n",
    "        # plt.grid(True)\n",
    "        # plt.imshow(horizontal_flip,cmap='gray')\n",
    "        \n",
    "        kelas = image_path.split(\"/\")[2]\n",
    "        name = image_path.split(\"/\")[3].split(\".\")[0]\n",
    "        path = \"/Users/harysetiawan/Documents/College Project/PCD/FinalProject/dataset/train/{}\".format(kelas)\n",
    "        name = \"{}_{}.jpg\".format(name,i)\n",
    "        image = cv2.convertScaleAbs(image,alpha=(255.0))\n",
    "        image = cv2.cvtColor(image,cv2.COLOR_RGB2BGR)\n",
    "\n",
    "        os.makedirs(os.path.dirname(path)) if not os.path.exists(os.path.dirname(path)) else None\n",
    "\n",
    "        cv2.imwrite(os.path.join(path,name),image)\n",
    "        # plt.subplot(rows, columns, i+1)\n",
    "        # plt.axis(False)\n",
    "        # plt.grid(True)\n",
    "        # plt.imshow(image,cmap='gray')"
   ]
  },
  {
   "cell_type": "code",
   "execution_count": null,
   "metadata": {},
   "outputs": [],
   "source": [
    "for image_path in image_test_list:\n",
    "    images = []\n",
    "    image = cv2.imread(image_path,flags=cv2.IMREAD_COLOR)\n",
    "    image = cv2.cvtColor(image,cv2.COLOR_BGR2RGB)\n",
    "\n",
    "\n",
    "    for i,angle in enumerate(rotate_angle):\n",
    "        rotate_img = skimage.transform.rotate(image=image,angle=angle,resize=False,mode='symmetric')\n",
    "        horizontal_flip = rotate_img[:, ::-1]\n",
    "        vertical_flip = rotate_img[::-1, :]\n",
    "        images.append(rotate_img)\n",
    "        images.append(horizontal_flip)\n",
    "        images.append(vertical_flip)\n",
    "        \n",
    "    for i,image in  enumerate(images):\n",
    "        # plt.subplot(rows, columns, i+1)\n",
    "        # plt.axis(False)\n",
    "        # plt.grid(True)\n",
    "        # plt.imshow(rotate_img,cmap='gray')\n",
    "\n",
    "        # plt.subplot(rows, columns, i+1)\n",
    "        # plt.axis(False)\n",
    "        # plt.grid(True)\n",
    "        # plt.imshow(horizontal_flip,cmap='gray')\n",
    "        kelas = image_path.split(\"/\")[2]\n",
    "        name = image_path.split(\"/\")[3].split(\".\")[0]\n",
    "        path = \"/Users/harysetiawan/Documents/College Project/PCD/FinalProject/dataset/test/{}\".format(kelas)\n",
    "        name = \"{}_{}.jpg\".format(name,i)\n",
    "        image = cv2.convertScaleAbs(image,alpha=(255.0))\n",
    "        image = cv2.cvtColor(image,cv2.COLOR_RGB2BGR)\n",
    "\n",
    "        os.makedirs(os.path.dirname(path)) if not os.path.exists(os.path.dirname(path)) else None\n",
    "\n",
    "        cv2.imwrite(os.path.join(path,name),image)\n",
    "        # plt.subplot(rows, columns, i+1)\n",
    "        # plt.axis(False)\n",
    "        # plt.grid(True)\n",
    "        # plt.imshow(image,cmap='gray')"
   ]
  }
 ],
 "metadata": {
  "interpreter": {
   "hash": "d2bece30c987821ee4a04d8c27dbd412385bc7790b4b5e1e5db4f2caf599d87c"
  },
  "kernelspec": {
   "display_name": "Python 3.9.12 ('venv': venv)",
   "language": "python",
   "name": "python3"
  },
  "language_info": {
   "codemirror_mode": {
    "name": "ipython",
    "version": 3
   },
   "file_extension": ".py",
   "mimetype": "text/x-python",
   "name": "python",
   "nbconvert_exporter": "python",
   "pygments_lexer": "ipython3",
   "version": "3.9.12"
  },
  "orig_nbformat": 4
 },
 "nbformat": 4,
 "nbformat_minor": 2
}
