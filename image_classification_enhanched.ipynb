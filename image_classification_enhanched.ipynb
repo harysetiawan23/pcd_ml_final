{
 "cells": [
  {
   "cell_type": "code",
   "execution_count": 21,
   "metadata": {},
   "outputs": [],
   "source": [
    "from sklearn.neighbors import KNeighborsClassifier\n",
    "from sklearn.svm import SVC\n",
    "from sklearn.metrics import classification_report,confusion_matrix,accuracy_score\n",
    "import seaborn as sns\n",
    "import pandas as pd\n",
    "import matplotlib.pyplot as plt \n",
    "from sklearn.model_selection import GridSearchCV\n",
    "from sklearn.preprocessing import StandardScaler"
   ]
  },
  {
   "cell_type": "code",
   "execution_count": 22,
   "metadata": {},
   "outputs": [
    {
     "data": {
      "text/plain": [
       "((1512, 16130), (900, 16130))"
      ]
     },
     "execution_count": 22,
     "metadata": {},
     "output_type": "execute_result"
    }
   ],
   "source": [
    "df_train = pd.read_csv(\"train_dasets.csv\",sep=',')\n",
    "df_test = pd.read_csv(\"test_dasets.csv\",sep=',')\n",
    "\n",
    "X_train = df_train.iloc[:,1:]\n",
    "y_train = df_train.iloc[:,0]\n",
    "\n",
    "X_test = df_test.iloc[:,1:]\n",
    "y_test = df_test.iloc[:,0]\n",
    "\n",
    "df_train.shape,df_test.shape"
   ]
  },
  {
   "cell_type": "code",
   "execution_count": 23,
   "metadata": {},
   "outputs": [
    {
     "data": {
      "text/plain": [
       "((1512, 4000), (900, 4000))"
      ]
     },
     "execution_count": 23,
     "metadata": {},
     "output_type": "execute_result"
    }
   ],
   "source": [
    "from sklearn.feature_selection import SelectKBest, chi2\n",
    "\n",
    "feature_selection = SelectKBest(chi2, k=4000).fit(X_train, y_train)\n",
    "X_train_n = feature_selection.transform(X_train)\n",
    "X_test_n = feature_selection.transform(X_test)\n",
    "X_train_n.shape,X_test_n.shape"
   ]
  },
  {
   "cell_type": "code",
   "execution_count": 38,
   "metadata": {},
   "outputs": [
    {
     "data": {
      "text/html": [
       "<style>#sk-container-id-6 {color: black;background-color: white;}#sk-container-id-6 pre{padding: 0;}#sk-container-id-6 div.sk-toggleable {background-color: white;}#sk-container-id-6 label.sk-toggleable__label {cursor: pointer;display: block;width: 100%;margin-bottom: 0;padding: 0.3em;box-sizing: border-box;text-align: center;}#sk-container-id-6 label.sk-toggleable__label-arrow:before {content: \"▸\";float: left;margin-right: 0.25em;color: #696969;}#sk-container-id-6 label.sk-toggleable__label-arrow:hover:before {color: black;}#sk-container-id-6 div.sk-estimator:hover label.sk-toggleable__label-arrow:before {color: black;}#sk-container-id-6 div.sk-toggleable__content {max-height: 0;max-width: 0;overflow: hidden;text-align: left;background-color: #f0f8ff;}#sk-container-id-6 div.sk-toggleable__content pre {margin: 0.2em;color: black;border-radius: 0.25em;background-color: #f0f8ff;}#sk-container-id-6 input.sk-toggleable__control:checked~div.sk-toggleable__content {max-height: 200px;max-width: 100%;overflow: auto;}#sk-container-id-6 input.sk-toggleable__control:checked~label.sk-toggleable__label-arrow:before {content: \"▾\";}#sk-container-id-6 div.sk-estimator input.sk-toggleable__control:checked~label.sk-toggleable__label {background-color: #d4ebff;}#sk-container-id-6 div.sk-label input.sk-toggleable__control:checked~label.sk-toggleable__label {background-color: #d4ebff;}#sk-container-id-6 input.sk-hidden--visually {border: 0;clip: rect(1px 1px 1px 1px);clip: rect(1px, 1px, 1px, 1px);height: 1px;margin: -1px;overflow: hidden;padding: 0;position: absolute;width: 1px;}#sk-container-id-6 div.sk-estimator {font-family: monospace;background-color: #f0f8ff;border: 1px dotted black;border-radius: 0.25em;box-sizing: border-box;margin-bottom: 0.5em;}#sk-container-id-6 div.sk-estimator:hover {background-color: #d4ebff;}#sk-container-id-6 div.sk-parallel-item::after {content: \"\";width: 100%;border-bottom: 1px solid gray;flex-grow: 1;}#sk-container-id-6 div.sk-label:hover label.sk-toggleable__label {background-color: #d4ebff;}#sk-container-id-6 div.sk-serial::before {content: \"\";position: absolute;border-left: 1px solid gray;box-sizing: border-box;top: 0;bottom: 0;left: 50%;z-index: 0;}#sk-container-id-6 div.sk-serial {display: flex;flex-direction: column;align-items: center;background-color: white;padding-right: 0.2em;padding-left: 0.2em;position: relative;}#sk-container-id-6 div.sk-item {position: relative;z-index: 1;}#sk-container-id-6 div.sk-parallel {display: flex;align-items: stretch;justify-content: center;background-color: white;position: relative;}#sk-container-id-6 div.sk-item::before, #sk-container-id-6 div.sk-parallel-item::before {content: \"\";position: absolute;border-left: 1px solid gray;box-sizing: border-box;top: 0;bottom: 0;left: 50%;z-index: -1;}#sk-container-id-6 div.sk-parallel-item {display: flex;flex-direction: column;z-index: 1;position: relative;background-color: white;}#sk-container-id-6 div.sk-parallel-item:first-child::after {align-self: flex-end;width: 50%;}#sk-container-id-6 div.sk-parallel-item:last-child::after {align-self: flex-start;width: 50%;}#sk-container-id-6 div.sk-parallel-item:only-child::after {width: 0;}#sk-container-id-6 div.sk-dashed-wrapped {border: 1px dashed gray;margin: 0 0.4em 0.5em 0.4em;box-sizing: border-box;padding-bottom: 0.4em;background-color: white;}#sk-container-id-6 div.sk-label label {font-family: monospace;font-weight: bold;display: inline-block;line-height: 1.2em;}#sk-container-id-6 div.sk-label-container {text-align: center;}#sk-container-id-6 div.sk-container {/* jupyter's `normalize.less` sets `[hidden] { display: none; }` but bootstrap.min.css set `[hidden] { display: none !important; }` so we also need the `!important` here to be able to override the default hidden behavior on the sphinx rendered scikit-learn.org. See: https://github.com/scikit-learn/scikit-learn/issues/21755 */display: inline-block !important;position: relative;}#sk-container-id-6 div.sk-text-repr-fallback {display: none;}</style><div id=\"sk-container-id-6\" class=\"sk-top-container\"><div class=\"sk-text-repr-fallback\"><pre>SVC()</pre><b>In a Jupyter environment, please rerun this cell to show the HTML representation or trust the notebook. <br />On GitHub, the HTML representation is unable to render, please try loading this page with nbviewer.org.</b></div><div class=\"sk-container\" hidden><div class=\"sk-item\"><div class=\"sk-estimator sk-toggleable\"><input class=\"sk-toggleable__control sk-hidden--visually\" id=\"sk-estimator-id-10\" type=\"checkbox\" checked><label for=\"sk-estimator-id-10\" class=\"sk-toggleable__label sk-toggleable__label-arrow\">SVC</label><div class=\"sk-toggleable__content\"><pre>SVC()</pre></div></div></div></div></div>"
      ],
      "text/plain": [
       "SVC()"
      ]
     },
     "execution_count": 38,
     "metadata": {},
     "output_type": "execute_result"
    }
   ],
   "source": [
    "from sklearn.svm import SVC\n",
    "\n",
    "\n",
    "svc_model = SVC()\n",
    "svc_model.fit(X_train_n,y_train)"
   ]
  },
  {
   "cell_type": "code",
   "execution_count": 41,
   "metadata": {},
   "outputs": [
    {
     "data": {
      "text/plain": [
       "89.11111111111111"
      ]
     },
     "execution_count": 41,
     "metadata": {},
     "output_type": "execute_result"
    }
   ],
   "source": [
    "y_pred = svc_model.predict(X_test_n)\n",
    "accuracy_score(y_true=y_test,y_pred=y_pred)*100\n"
   ]
  },
  {
   "cell_type": "code",
   "execution_count": 26,
   "metadata": {},
   "outputs": [
    {
     "name": "stdout",
     "output_type": "stream",
     "text": [
      "              precision    recall  f1-score   support\n",
      "\n",
      "        GINA       1.00      1.00      1.00       144\n",
      "    MATAHARI       1.00      0.61      0.76       252\n",
      "       SIRAT       0.72      1.00      0.84       252\n",
      "         ULI       1.00      1.00      1.00       252\n",
      "\n",
      "    accuracy                           0.89       900\n",
      "   macro avg       0.93      0.90      0.90       900\n",
      "weighted avg       0.92      0.89      0.89       900\n",
      "\n"
     ]
    }
   ],
   "source": [
    "print(classification_report(y_true=y_test,y_pred=y_pred))"
   ]
  },
  {
   "cell_type": "code",
   "execution_count": 27,
   "metadata": {},
   "outputs": [
    {
     "name": "stdout",
     "output_type": "stream",
     "text": [
      "Fitting 5 folds for each of 48 candidates, totalling 240 fits\n",
      "[CV] END .........................C=0.1, gamma=1, kernel=rbf; total time=   4.8s\n",
      "[CV] END .........................C=0.1, gamma=1, kernel=rbf; total time=   4.9s\n",
      "[CV] END .........................C=0.1, gamma=1, kernel=rbf; total time=   4.8s\n",
      "[CV] END .........................C=0.1, gamma=1, kernel=rbf; total time=   4.9s\n",
      "[CV] END .........................C=0.1, gamma=1, kernel=rbf; total time=   4.8s\n",
      "[CV] END ........................C=0.1, gamma=1, kernel=poly; total time=   1.4s\n",
      "[CV] END ........................C=0.1, gamma=1, kernel=poly; total time=   1.4s\n",
      "[CV] END ........................C=0.1, gamma=1, kernel=poly; total time=   1.4s\n",
      "[CV] END ........................C=0.1, gamma=1, kernel=poly; total time=   1.4s\n",
      "[CV] END ........................C=0.1, gamma=1, kernel=poly; total time=   1.3s\n",
      "[CV] END .....................C=0.1, gamma=1, kernel=sigmoid; total time=   3.7s\n",
      "[CV] END .....................C=0.1, gamma=1, kernel=sigmoid; total time=   3.6s\n",
      "[CV] END .....................C=0.1, gamma=1, kernel=sigmoid; total time=   3.7s\n",
      "[CV] END .....................C=0.1, gamma=1, kernel=sigmoid; total time=   3.7s\n",
      "[CV] END .....................C=0.1, gamma=1, kernel=sigmoid; total time=   3.6s\n",
      "[CV] END .......................C=0.1, gamma=0.1, kernel=rbf; total time=   4.7s\n",
      "[CV] END .......................C=0.1, gamma=0.1, kernel=rbf; total time=   4.9s\n",
      "[CV] END .......................C=0.1, gamma=0.1, kernel=rbf; total time=   4.9s\n",
      "[CV] END .......................C=0.1, gamma=0.1, kernel=rbf; total time=   5.0s\n",
      "[CV] END .......................C=0.1, gamma=0.1, kernel=rbf; total time=   4.9s\n",
      "[CV] END ......................C=0.1, gamma=0.1, kernel=poly; total time=   1.4s\n",
      "[CV] END ......................C=0.1, gamma=0.1, kernel=poly; total time=   1.4s\n",
      "[CV] END ......................C=0.1, gamma=0.1, kernel=poly; total time=   1.4s\n",
      "[CV] END ......................C=0.1, gamma=0.1, kernel=poly; total time=   1.4s\n",
      "[CV] END ......................C=0.1, gamma=0.1, kernel=poly; total time=   1.3s\n",
      "[CV] END ...................C=0.1, gamma=0.1, kernel=sigmoid; total time=   3.7s\n",
      "[CV] END ...................C=0.1, gamma=0.1, kernel=sigmoid; total time=   3.7s\n",
      "[CV] END ...................C=0.1, gamma=0.1, kernel=sigmoid; total time=   3.7s\n",
      "[CV] END ...................C=0.1, gamma=0.1, kernel=sigmoid; total time=   3.7s\n",
      "[CV] END ...................C=0.1, gamma=0.1, kernel=sigmoid; total time=   3.7s\n",
      "[CV] END ......................C=0.1, gamma=0.01, kernel=rbf; total time=   4.8s\n",
      "[CV] END ......................C=0.1, gamma=0.01, kernel=rbf; total time=   5.0s\n",
      "[CV] END ......................C=0.1, gamma=0.01, kernel=rbf; total time=   4.9s\n",
      "[CV] END ......................C=0.1, gamma=0.01, kernel=rbf; total time=   5.0s\n",
      "[CV] END ......................C=0.1, gamma=0.01, kernel=rbf; total time=   4.9s\n",
      "[CV] END .....................C=0.1, gamma=0.01, kernel=poly; total time=   1.4s\n",
      "[CV] END .....................C=0.1, gamma=0.01, kernel=poly; total time=   1.4s\n",
      "[CV] END .....................C=0.1, gamma=0.01, kernel=poly; total time=   1.4s\n",
      "[CV] END .....................C=0.1, gamma=0.01, kernel=poly; total time=   1.4s\n",
      "[CV] END .....................C=0.1, gamma=0.01, kernel=poly; total time=   1.3s\n",
      "[CV] END ..................C=0.1, gamma=0.01, kernel=sigmoid; total time=   3.7s\n",
      "[CV] END ..................C=0.1, gamma=0.01, kernel=sigmoid; total time=   3.7s\n",
      "[CV] END ..................C=0.1, gamma=0.01, kernel=sigmoid; total time=   3.7s\n",
      "[CV] END ..................C=0.1, gamma=0.01, kernel=sigmoid; total time=   3.7s\n",
      "[CV] END ..................C=0.1, gamma=0.01, kernel=sigmoid; total time=   3.7s\n",
      "[CV] END .....................C=0.1, gamma=0.001, kernel=rbf; total time=   4.8s\n",
      "[CV] END .....................C=0.1, gamma=0.001, kernel=rbf; total time=   4.9s\n",
      "[CV] END .....................C=0.1, gamma=0.001, kernel=rbf; total time=   4.9s\n",
      "[CV] END .....................C=0.1, gamma=0.001, kernel=rbf; total time=   5.0s\n",
      "[CV] END .....................C=0.1, gamma=0.001, kernel=rbf; total time=   4.9s\n",
      "[CV] END ....................C=0.1, gamma=0.001, kernel=poly; total time=   1.4s\n",
      "[CV] END ....................C=0.1, gamma=0.001, kernel=poly; total time=   1.4s\n",
      "[CV] END ....................C=0.1, gamma=0.001, kernel=poly; total time=   1.4s\n",
      "[CV] END ....................C=0.1, gamma=0.001, kernel=poly; total time=   1.4s\n",
      "[CV] END ....................C=0.1, gamma=0.001, kernel=poly; total time=   1.4s\n",
      "[CV] END .................C=0.1, gamma=0.001, kernel=sigmoid; total time=   3.7s\n",
      "[CV] END .................C=0.1, gamma=0.001, kernel=sigmoid; total time=   3.7s\n",
      "[CV] END .................C=0.1, gamma=0.001, kernel=sigmoid; total time=   3.7s\n",
      "[CV] END .................C=0.1, gamma=0.001, kernel=sigmoid; total time=   3.7s\n",
      "[CV] END .................C=0.1, gamma=0.001, kernel=sigmoid; total time=   3.7s\n",
      "[CV] END ...........................C=1, gamma=1, kernel=rbf; total time=   4.9s\n",
      "[CV] END ...........................C=1, gamma=1, kernel=rbf; total time=   4.8s\n",
      "[CV] END ...........................C=1, gamma=1, kernel=rbf; total time=   4.9s\n",
      "[CV] END ...........................C=1, gamma=1, kernel=rbf; total time=   4.7s\n",
      "[CV] END ...........................C=1, gamma=1, kernel=rbf; total time=   4.8s\n",
      "[CV] END ..........................C=1, gamma=1, kernel=poly; total time=   1.4s\n",
      "[CV] END ..........................C=1, gamma=1, kernel=poly; total time=   1.4s\n",
      "[CV] END ..........................C=1, gamma=1, kernel=poly; total time=   1.4s\n",
      "[CV] END ..........................C=1, gamma=1, kernel=poly; total time=   1.4s\n",
      "[CV] END ..........................C=1, gamma=1, kernel=poly; total time=   1.3s\n",
      "[CV] END .......................C=1, gamma=1, kernel=sigmoid; total time=   3.7s\n",
      "[CV] END .......................C=1, gamma=1, kernel=sigmoid; total time=   3.7s\n",
      "[CV] END .......................C=1, gamma=1, kernel=sigmoid; total time=   3.7s\n",
      "[CV] END .......................C=1, gamma=1, kernel=sigmoid; total time=   3.7s\n",
      "[CV] END .......................C=1, gamma=1, kernel=sigmoid; total time=   3.7s\n",
      "[CV] END .........................C=1, gamma=0.1, kernel=rbf; total time=   4.9s\n",
      "[CV] END .........................C=1, gamma=0.1, kernel=rbf; total time=   4.8s\n",
      "[CV] END .........................C=1, gamma=0.1, kernel=rbf; total time=   4.8s\n",
      "[CV] END .........................C=1, gamma=0.1, kernel=rbf; total time=   4.7s\n",
      "[CV] END .........................C=1, gamma=0.1, kernel=rbf; total time=   4.8s\n",
      "[CV] END ........................C=1, gamma=0.1, kernel=poly; total time=   1.4s\n",
      "[CV] END ........................C=1, gamma=0.1, kernel=poly; total time=   1.4s\n",
      "[CV] END ........................C=1, gamma=0.1, kernel=poly; total time=   1.4s\n",
      "[CV] END ........................C=1, gamma=0.1, kernel=poly; total time=   1.4s\n",
      "[CV] END ........................C=1, gamma=0.1, kernel=poly; total time=   1.4s\n",
      "[CV] END .....................C=1, gamma=0.1, kernel=sigmoid; total time=   3.7s\n",
      "[CV] END .....................C=1, gamma=0.1, kernel=sigmoid; total time=   3.7s\n",
      "[CV] END .....................C=1, gamma=0.1, kernel=sigmoid; total time=   3.7s\n",
      "[CV] END .....................C=1, gamma=0.1, kernel=sigmoid; total time=   3.7s\n",
      "[CV] END .....................C=1, gamma=0.1, kernel=sigmoid; total time=   3.7s\n",
      "[CV] END ........................C=1, gamma=0.01, kernel=rbf; total time=   4.9s\n",
      "[CV] END ........................C=1, gamma=0.01, kernel=rbf; total time=   4.8s\n",
      "[CV] END ........................C=1, gamma=0.01, kernel=rbf; total time=   4.8s\n",
      "[CV] END ........................C=1, gamma=0.01, kernel=rbf; total time=   4.7s\n",
      "[CV] END ........................C=1, gamma=0.01, kernel=rbf; total time=   4.8s\n",
      "[CV] END .......................C=1, gamma=0.01, kernel=poly; total time=   1.4s\n",
      "[CV] END .......................C=1, gamma=0.01, kernel=poly; total time=   1.4s\n",
      "[CV] END .......................C=1, gamma=0.01, kernel=poly; total time=   1.4s\n",
      "[CV] END .......................C=1, gamma=0.01, kernel=poly; total time=   1.4s\n",
      "[CV] END .......................C=1, gamma=0.01, kernel=poly; total time=   1.4s\n",
      "[CV] END ....................C=1, gamma=0.01, kernel=sigmoid; total time=   3.7s\n",
      "[CV] END ....................C=1, gamma=0.01, kernel=sigmoid; total time=   3.7s\n",
      "[CV] END ....................C=1, gamma=0.01, kernel=sigmoid; total time=   3.7s\n",
      "[CV] END ....................C=1, gamma=0.01, kernel=sigmoid; total time=   3.7s\n",
      "[CV] END ....................C=1, gamma=0.01, kernel=sigmoid; total time=   3.7s\n",
      "[CV] END .......................C=1, gamma=0.001, kernel=rbf; total time=   4.9s\n",
      "[CV] END .......................C=1, gamma=0.001, kernel=rbf; total time=   4.9s\n",
      "[CV] END .......................C=1, gamma=0.001, kernel=rbf; total time=   4.9s\n",
      "[CV] END .......................C=1, gamma=0.001, kernel=rbf; total time=   4.8s\n",
      "[CV] END .......................C=1, gamma=0.001, kernel=rbf; total time=   4.9s\n",
      "[CV] END ......................C=1, gamma=0.001, kernel=poly; total time=   1.4s\n",
      "[CV] END ......................C=1, gamma=0.001, kernel=poly; total time=   1.4s\n",
      "[CV] END ......................C=1, gamma=0.001, kernel=poly; total time=   1.4s\n",
      "[CV] END ......................C=1, gamma=0.001, kernel=poly; total time=   1.4s\n",
      "[CV] END ......................C=1, gamma=0.001, kernel=poly; total time=   1.3s\n",
      "[CV] END ...................C=1, gamma=0.001, kernel=sigmoid; total time=   3.7s\n",
      "[CV] END ...................C=1, gamma=0.001, kernel=sigmoid; total time=   3.7s\n",
      "[CV] END ...................C=1, gamma=0.001, kernel=sigmoid; total time=   3.7s\n",
      "[CV] END ...................C=1, gamma=0.001, kernel=sigmoid; total time=   3.7s\n",
      "[CV] END ...................C=1, gamma=0.001, kernel=sigmoid; total time=   3.7s\n",
      "[CV] END ..........................C=10, gamma=1, kernel=rbf; total time=   4.1s\n",
      "[CV] END ..........................C=10, gamma=1, kernel=rbf; total time=   4.1s\n",
      "[CV] END ..........................C=10, gamma=1, kernel=rbf; total time=   4.1s\n",
      "[CV] END ..........................C=10, gamma=1, kernel=rbf; total time=   4.2s\n",
      "[CV] END ..........................C=10, gamma=1, kernel=rbf; total time=   4.1s\n",
      "[CV] END .........................C=10, gamma=1, kernel=poly; total time=   1.4s\n",
      "[CV] END .........................C=10, gamma=1, kernel=poly; total time=   1.4s\n",
      "[CV] END .........................C=10, gamma=1, kernel=poly; total time=   1.4s\n",
      "[CV] END .........................C=10, gamma=1, kernel=poly; total time=   1.4s\n",
      "[CV] END .........................C=10, gamma=1, kernel=poly; total time=   1.3s\n",
      "[CV] END ......................C=10, gamma=1, kernel=sigmoid; total time=   3.7s\n",
      "[CV] END ......................C=10, gamma=1, kernel=sigmoid; total time=   3.7s\n",
      "[CV] END ......................C=10, gamma=1, kernel=sigmoid; total time=   3.7s\n",
      "[CV] END ......................C=10, gamma=1, kernel=sigmoid; total time=   3.7s\n",
      "[CV] END ......................C=10, gamma=1, kernel=sigmoid; total time=   3.7s\n",
      "[CV] END ........................C=10, gamma=0.1, kernel=rbf; total time=   4.1s\n",
      "[CV] END ........................C=10, gamma=0.1, kernel=rbf; total time=   4.2s\n",
      "[CV] END ........................C=10, gamma=0.1, kernel=rbf; total time=   4.1s\n",
      "[CV] END ........................C=10, gamma=0.1, kernel=rbf; total time=   4.1s\n",
      "[CV] END ........................C=10, gamma=0.1, kernel=rbf; total time=   4.1s\n",
      "[CV] END .......................C=10, gamma=0.1, kernel=poly; total time=   1.4s\n",
      "[CV] END .......................C=10, gamma=0.1, kernel=poly; total time=   1.4s\n",
      "[CV] END .......................C=10, gamma=0.1, kernel=poly; total time=   1.4s\n",
      "[CV] END .......................C=10, gamma=0.1, kernel=poly; total time=   1.4s\n",
      "[CV] END .......................C=10, gamma=0.1, kernel=poly; total time=   1.4s\n",
      "[CV] END ....................C=10, gamma=0.1, kernel=sigmoid; total time=   3.7s\n",
      "[CV] END ....................C=10, gamma=0.1, kernel=sigmoid; total time=   3.7s\n",
      "[CV] END ....................C=10, gamma=0.1, kernel=sigmoid; total time=   3.7s\n",
      "[CV] END ....................C=10, gamma=0.1, kernel=sigmoid; total time=   3.7s\n",
      "[CV] END ....................C=10, gamma=0.1, kernel=sigmoid; total time=   3.7s\n",
      "[CV] END .......................C=10, gamma=0.01, kernel=rbf; total time=   4.1s\n",
      "[CV] END .......................C=10, gamma=0.01, kernel=rbf; total time=   4.2s\n",
      "[CV] END .......................C=10, gamma=0.01, kernel=rbf; total time=   4.1s\n",
      "[CV] END .......................C=10, gamma=0.01, kernel=rbf; total time=   4.2s\n",
      "[CV] END .......................C=10, gamma=0.01, kernel=rbf; total time=   4.1s\n",
      "[CV] END ......................C=10, gamma=0.01, kernel=poly; total time=   1.4s\n",
      "[CV] END ......................C=10, gamma=0.01, kernel=poly; total time=   1.4s\n",
      "[CV] END ......................C=10, gamma=0.01, kernel=poly; total time=   1.4s\n",
      "[CV] END ......................C=10, gamma=0.01, kernel=poly; total time=   1.4s\n",
      "[CV] END ......................C=10, gamma=0.01, kernel=poly; total time=   1.4s\n",
      "[CV] END ...................C=10, gamma=0.01, kernel=sigmoid; total time=   3.7s\n",
      "[CV] END ...................C=10, gamma=0.01, kernel=sigmoid; total time=   3.7s\n",
      "[CV] END ...................C=10, gamma=0.01, kernel=sigmoid; total time=   3.7s\n",
      "[CV] END ...................C=10, gamma=0.01, kernel=sigmoid; total time=   3.7s\n",
      "[CV] END ...................C=10, gamma=0.01, kernel=sigmoid; total time=   3.7s\n",
      "[CV] END ......................C=10, gamma=0.001, kernel=rbf; total time=   4.1s\n",
      "[CV] END ......................C=10, gamma=0.001, kernel=rbf; total time=   4.1s\n",
      "[CV] END ......................C=10, gamma=0.001, kernel=rbf; total time=   4.1s\n",
      "[CV] END ......................C=10, gamma=0.001, kernel=rbf; total time=   4.2s\n",
      "[CV] END ......................C=10, gamma=0.001, kernel=rbf; total time=   4.1s\n",
      "[CV] END .....................C=10, gamma=0.001, kernel=poly; total time=   1.4s\n",
      "[CV] END .....................C=10, gamma=0.001, kernel=poly; total time=   1.4s\n",
      "[CV] END .....................C=10, gamma=0.001, kernel=poly; total time=   1.4s\n",
      "[CV] END .....................C=10, gamma=0.001, kernel=poly; total time=   1.4s\n",
      "[CV] END .....................C=10, gamma=0.001, kernel=poly; total time=   1.4s\n",
      "[CV] END ..................C=10, gamma=0.001, kernel=sigmoid; total time=   3.8s\n",
      "[CV] END ..................C=10, gamma=0.001, kernel=sigmoid; total time=   3.8s\n",
      "[CV] END ..................C=10, gamma=0.001, kernel=sigmoid; total time=   3.8s\n",
      "[CV] END ..................C=10, gamma=0.001, kernel=sigmoid; total time=   3.7s\n",
      "[CV] END ..................C=10, gamma=0.001, kernel=sigmoid; total time=   3.7s\n",
      "[CV] END .........................C=100, gamma=1, kernel=rbf; total time=   4.1s\n",
      "[CV] END .........................C=100, gamma=1, kernel=rbf; total time=   4.1s\n",
      "[CV] END .........................C=100, gamma=1, kernel=rbf; total time=   4.1s\n",
      "[CV] END .........................C=100, gamma=1, kernel=rbf; total time=   4.2s\n",
      "[CV] END .........................C=100, gamma=1, kernel=rbf; total time=   4.1s\n",
      "[CV] END ........................C=100, gamma=1, kernel=poly; total time=   1.4s\n",
      "[CV] END ........................C=100, gamma=1, kernel=poly; total time=   1.4s\n",
      "[CV] END ........................C=100, gamma=1, kernel=poly; total time=   1.4s\n",
      "[CV] END ........................C=100, gamma=1, kernel=poly; total time=   1.4s\n",
      "[CV] END ........................C=100, gamma=1, kernel=poly; total time=   1.4s\n",
      "[CV] END .....................C=100, gamma=1, kernel=sigmoid; total time=   3.7s\n",
      "[CV] END .....................C=100, gamma=1, kernel=sigmoid; total time=   3.7s\n",
      "[CV] END .....................C=100, gamma=1, kernel=sigmoid; total time=   3.7s\n",
      "[CV] END .....................C=100, gamma=1, kernel=sigmoid; total time=   3.7s\n",
      "[CV] END .....................C=100, gamma=1, kernel=sigmoid; total time=   3.7s\n",
      "[CV] END .......................C=100, gamma=0.1, kernel=rbf; total time=   4.1s\n",
      "[CV] END .......................C=100, gamma=0.1, kernel=rbf; total time=   4.2s\n",
      "[CV] END .......................C=100, gamma=0.1, kernel=rbf; total time=   4.1s\n",
      "[CV] END .......................C=100, gamma=0.1, kernel=rbf; total time=   4.2s\n",
      "[CV] END .......................C=100, gamma=0.1, kernel=rbf; total time=   4.1s\n",
      "[CV] END ......................C=100, gamma=0.1, kernel=poly; total time=   1.4s\n",
      "[CV] END ......................C=100, gamma=0.1, kernel=poly; total time=   1.4s\n",
      "[CV] END ......................C=100, gamma=0.1, kernel=poly; total time=   1.4s\n",
      "[CV] END ......................C=100, gamma=0.1, kernel=poly; total time=   1.4s\n",
      "[CV] END ......................C=100, gamma=0.1, kernel=poly; total time=   1.4s\n",
      "[CV] END ...................C=100, gamma=0.1, kernel=sigmoid; total time=   3.7s\n",
      "[CV] END ...................C=100, gamma=0.1, kernel=sigmoid; total time=   3.7s\n",
      "[CV] END ...................C=100, gamma=0.1, kernel=sigmoid; total time=   3.7s\n",
      "[CV] END ...................C=100, gamma=0.1, kernel=sigmoid; total time=   3.7s\n",
      "[CV] END ...................C=100, gamma=0.1, kernel=sigmoid; total time=   3.7s\n",
      "[CV] END ......................C=100, gamma=0.01, kernel=rbf; total time=   4.1s\n",
      "[CV] END ......................C=100, gamma=0.01, kernel=rbf; total time=   4.2s\n",
      "[CV] END ......................C=100, gamma=0.01, kernel=rbf; total time=   4.1s\n",
      "[CV] END ......................C=100, gamma=0.01, kernel=rbf; total time=   4.2s\n",
      "[CV] END ......................C=100, gamma=0.01, kernel=rbf; total time=   4.1s\n",
      "[CV] END .....................C=100, gamma=0.01, kernel=poly; total time=   1.4s\n",
      "[CV] END .....................C=100, gamma=0.01, kernel=poly; total time=   1.4s\n",
      "[CV] END .....................C=100, gamma=0.01, kernel=poly; total time=   1.4s\n",
      "[CV] END .....................C=100, gamma=0.01, kernel=poly; total time=   1.4s\n",
      "[CV] END .....................C=100, gamma=0.01, kernel=poly; total time=   1.4s\n",
      "[CV] END ..................C=100, gamma=0.01, kernel=sigmoid; total time=   3.7s\n",
      "[CV] END ..................C=100, gamma=0.01, kernel=sigmoid; total time=   3.7s\n",
      "[CV] END ..................C=100, gamma=0.01, kernel=sigmoid; total time=   3.7s\n",
      "[CV] END ..................C=100, gamma=0.01, kernel=sigmoid; total time=   3.7s\n",
      "[CV] END ..................C=100, gamma=0.01, kernel=sigmoid; total time=   3.7s\n",
      "[CV] END .....................C=100, gamma=0.001, kernel=rbf; total time=   4.1s\n",
      "[CV] END .....................C=100, gamma=0.001, kernel=rbf; total time=   4.2s\n",
      "[CV] END .....................C=100, gamma=0.001, kernel=rbf; total time=   4.1s\n",
      "[CV] END .....................C=100, gamma=0.001, kernel=rbf; total time=   4.2s\n",
      "[CV] END .....................C=100, gamma=0.001, kernel=rbf; total time=   4.1s\n",
      "[CV] END ....................C=100, gamma=0.001, kernel=poly; total time=   1.4s\n",
      "[CV] END ....................C=100, gamma=0.001, kernel=poly; total time=   1.4s\n",
      "[CV] END ....................C=100, gamma=0.001, kernel=poly; total time=   1.4s\n",
      "[CV] END ....................C=100, gamma=0.001, kernel=poly; total time=   1.4s\n",
      "[CV] END ....................C=100, gamma=0.001, kernel=poly; total time=   1.4s\n",
      "[CV] END .................C=100, gamma=0.001, kernel=sigmoid; total time=   3.7s\n",
      "[CV] END .................C=100, gamma=0.001, kernel=sigmoid; total time=   3.7s\n",
      "[CV] END .................C=100, gamma=0.001, kernel=sigmoid; total time=   3.7s\n",
      "[CV] END .................C=100, gamma=0.001, kernel=sigmoid; total time=   3.7s\n",
      "[CV] END .................C=100, gamma=0.001, kernel=sigmoid; total time=   3.7s\n"
     ]
    },
    {
     "data": {
      "text/html": [
       "<style>#sk-container-id-5 {color: black;background-color: white;}#sk-container-id-5 pre{padding: 0;}#sk-container-id-5 div.sk-toggleable {background-color: white;}#sk-container-id-5 label.sk-toggleable__label {cursor: pointer;display: block;width: 100%;margin-bottom: 0;padding: 0.3em;box-sizing: border-box;text-align: center;}#sk-container-id-5 label.sk-toggleable__label-arrow:before {content: \"▸\";float: left;margin-right: 0.25em;color: #696969;}#sk-container-id-5 label.sk-toggleable__label-arrow:hover:before {color: black;}#sk-container-id-5 div.sk-estimator:hover label.sk-toggleable__label-arrow:before {color: black;}#sk-container-id-5 div.sk-toggleable__content {max-height: 0;max-width: 0;overflow: hidden;text-align: left;background-color: #f0f8ff;}#sk-container-id-5 div.sk-toggleable__content pre {margin: 0.2em;color: black;border-radius: 0.25em;background-color: #f0f8ff;}#sk-container-id-5 input.sk-toggleable__control:checked~div.sk-toggleable__content {max-height: 200px;max-width: 100%;overflow: auto;}#sk-container-id-5 input.sk-toggleable__control:checked~label.sk-toggleable__label-arrow:before {content: \"▾\";}#sk-container-id-5 div.sk-estimator input.sk-toggleable__control:checked~label.sk-toggleable__label {background-color: #d4ebff;}#sk-container-id-5 div.sk-label input.sk-toggleable__control:checked~label.sk-toggleable__label {background-color: #d4ebff;}#sk-container-id-5 input.sk-hidden--visually {border: 0;clip: rect(1px 1px 1px 1px);clip: rect(1px, 1px, 1px, 1px);height: 1px;margin: -1px;overflow: hidden;padding: 0;position: absolute;width: 1px;}#sk-container-id-5 div.sk-estimator {font-family: monospace;background-color: #f0f8ff;border: 1px dotted black;border-radius: 0.25em;box-sizing: border-box;margin-bottom: 0.5em;}#sk-container-id-5 div.sk-estimator:hover {background-color: #d4ebff;}#sk-container-id-5 div.sk-parallel-item::after {content: \"\";width: 100%;border-bottom: 1px solid gray;flex-grow: 1;}#sk-container-id-5 div.sk-label:hover label.sk-toggleable__label {background-color: #d4ebff;}#sk-container-id-5 div.sk-serial::before {content: \"\";position: absolute;border-left: 1px solid gray;box-sizing: border-box;top: 0;bottom: 0;left: 50%;z-index: 0;}#sk-container-id-5 div.sk-serial {display: flex;flex-direction: column;align-items: center;background-color: white;padding-right: 0.2em;padding-left: 0.2em;position: relative;}#sk-container-id-5 div.sk-item {position: relative;z-index: 1;}#sk-container-id-5 div.sk-parallel {display: flex;align-items: stretch;justify-content: center;background-color: white;position: relative;}#sk-container-id-5 div.sk-item::before, #sk-container-id-5 div.sk-parallel-item::before {content: \"\";position: absolute;border-left: 1px solid gray;box-sizing: border-box;top: 0;bottom: 0;left: 50%;z-index: -1;}#sk-container-id-5 div.sk-parallel-item {display: flex;flex-direction: column;z-index: 1;position: relative;background-color: white;}#sk-container-id-5 div.sk-parallel-item:first-child::after {align-self: flex-end;width: 50%;}#sk-container-id-5 div.sk-parallel-item:last-child::after {align-self: flex-start;width: 50%;}#sk-container-id-5 div.sk-parallel-item:only-child::after {width: 0;}#sk-container-id-5 div.sk-dashed-wrapped {border: 1px dashed gray;margin: 0 0.4em 0.5em 0.4em;box-sizing: border-box;padding-bottom: 0.4em;background-color: white;}#sk-container-id-5 div.sk-label label {font-family: monospace;font-weight: bold;display: inline-block;line-height: 1.2em;}#sk-container-id-5 div.sk-label-container {text-align: center;}#sk-container-id-5 div.sk-container {/* jupyter's `normalize.less` sets `[hidden] { display: none; }` but bootstrap.min.css set `[hidden] { display: none !important; }` so we also need the `!important` here to be able to override the default hidden behavior on the sphinx rendered scikit-learn.org. See: https://github.com/scikit-learn/scikit-learn/issues/21755 */display: inline-block !important;position: relative;}#sk-container-id-5 div.sk-text-repr-fallback {display: none;}</style><div id=\"sk-container-id-5\" class=\"sk-top-container\"><div class=\"sk-text-repr-fallback\"><pre>GridSearchCV(estimator=SVC(),\n",
       "             param_grid={&#x27;C&#x27;: [0.1, 1, 10, 100], &#x27;gamma&#x27;: [1, 0.1, 0.01, 0.001],\n",
       "                         &#x27;kernel&#x27;: [&#x27;rbf&#x27;, &#x27;poly&#x27;, &#x27;sigmoid&#x27;]},\n",
       "             verbose=2)</pre><b>In a Jupyter environment, please rerun this cell to show the HTML representation or trust the notebook. <br />On GitHub, the HTML representation is unable to render, please try loading this page with nbviewer.org.</b></div><div class=\"sk-container\" hidden><div class=\"sk-item sk-dashed-wrapped\"><div class=\"sk-label-container\"><div class=\"sk-label sk-toggleable\"><input class=\"sk-toggleable__control sk-hidden--visually\" id=\"sk-estimator-id-7\" type=\"checkbox\" ><label for=\"sk-estimator-id-7\" class=\"sk-toggleable__label sk-toggleable__label-arrow\">GridSearchCV</label><div class=\"sk-toggleable__content\"><pre>GridSearchCV(estimator=SVC(),\n",
       "             param_grid={&#x27;C&#x27;: [0.1, 1, 10, 100], &#x27;gamma&#x27;: [1, 0.1, 0.01, 0.001],\n",
       "                         &#x27;kernel&#x27;: [&#x27;rbf&#x27;, &#x27;poly&#x27;, &#x27;sigmoid&#x27;]},\n",
       "             verbose=2)</pre></div></div></div><div class=\"sk-parallel\"><div class=\"sk-parallel-item\"><div class=\"sk-item\"><div class=\"sk-label-container\"><div class=\"sk-label sk-toggleable\"><input class=\"sk-toggleable__control sk-hidden--visually\" id=\"sk-estimator-id-8\" type=\"checkbox\" ><label for=\"sk-estimator-id-8\" class=\"sk-toggleable__label sk-toggleable__label-arrow\">estimator: SVC</label><div class=\"sk-toggleable__content\"><pre>SVC()</pre></div></div></div><div class=\"sk-serial\"><div class=\"sk-item\"><div class=\"sk-estimator sk-toggleable\"><input class=\"sk-toggleable__control sk-hidden--visually\" id=\"sk-estimator-id-9\" type=\"checkbox\" ><label for=\"sk-estimator-id-9\" class=\"sk-toggleable__label sk-toggleable__label-arrow\">SVC</label><div class=\"sk-toggleable__content\"><pre>SVC()</pre></div></div></div></div></div></div></div></div></div></div>"
      ],
      "text/plain": [
       "GridSearchCV(estimator=SVC(),\n",
       "             param_grid={'C': [0.1, 1, 10, 100], 'gamma': [1, 0.1, 0.01, 0.001],\n",
       "                         'kernel': ['rbf', 'poly', 'sigmoid']},\n",
       "             verbose=2)"
      ]
     },
     "execution_count": 27,
     "metadata": {},
     "output_type": "execute_result"
    }
   ],
   "source": [
    "from sklearn.svm import SVC\n",
    "\n",
    "# defining parameter range\n",
    "param_grid = {'C': [0.1,1, 10, 100], 'gamma': [1,0.1,0.01,0.001],'kernel': ['rbf', 'poly', 'sigmoid']}\n",
    "\n",
    "svc_model = GridSearchCV(SVC(), param_grid, refit = True, verbose = 2)\n",
    "\n",
    "# fitting the model for grid search\n",
    "svc_model.fit(X_train_n,y_train)"
   ]
  },
  {
   "cell_type": "code",
   "execution_count": 37,
   "metadata": {},
   "outputs": [
    {
     "data": {
      "text/plain": [
       "85.44444444444444"
      ]
     },
     "execution_count": 37,
     "metadata": {},
     "output_type": "execute_result"
    }
   ],
   "source": [
    "y_pred = svc_model.predict(X_test_n)\n",
    "accuracy_score(y_true=y_test,y_pred=y_pred)*100"
   ]
  },
  {
   "cell_type": "code",
   "execution_count": 29,
   "metadata": {},
   "outputs": [
    {
     "name": "stdout",
     "output_type": "stream",
     "text": [
      "              precision    recall  f1-score   support\n",
      "\n",
      "        GINA       0.63      0.81      0.71       144\n",
      "    MATAHARI       0.84      0.59      0.69       252\n",
      "       SIRAT       0.88      1.00      0.93       252\n",
      "         ULI       1.00      1.00      1.00       252\n",
      "\n",
      "    accuracy                           0.85       900\n",
      "   macro avg       0.84      0.85      0.83       900\n",
      "weighted avg       0.86      0.85      0.85       900\n",
      "\n"
     ]
    }
   ],
   "source": [
    "svm_report = classification_report(y_true=y_test,y_pred=y_pred, output_dict=True)\n",
    "# sns.heatmap(pd.DataFrame(svm_report).iloc[:-1, :].T, annot=True,ax=ax)\n",
    "print(classification_report(y_true=y_test,y_pred=y_pred,))"
   ]
  }
 ],
 "metadata": {
  "kernelspec": {
   "display_name": "Python 3.9.12 ('venv': venv)",
   "language": "python",
   "name": "python3"
  },
  "language_info": {
   "codemirror_mode": {
    "name": "ipython",
    "version": 3
   },
   "file_extension": ".py",
   "mimetype": "text/x-python",
   "name": "python",
   "nbconvert_exporter": "python",
   "pygments_lexer": "ipython3",
   "version": "3.9.12"
  },
  "orig_nbformat": 4,
  "vscode": {
   "interpreter": {
    "hash": "d2bece30c987821ee4a04d8c27dbd412385bc7790b4b5e1e5db4f2caf599d87c"
   }
  }
 },
 "nbformat": 4,
 "nbformat_minor": 2
}
