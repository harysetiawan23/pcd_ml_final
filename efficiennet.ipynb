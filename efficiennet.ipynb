{
 "cells": [
  {
   "cell_type": "code",
   "execution_count": 43,
   "metadata": {},
   "outputs": [],
   "source": [
    "import tensorflow as tf\n",
    "import zipfile\n",
    "import os\n",
    "import matplotlib.pyplot as plt\n",
    "import numpy as np\n",
    "import matplotlib.image as mpimg\n",
    "from keras.preprocessing.image import ImageDataGenerator\n",
    "from sklearn.metrics import classification_report, confusion_matrix\n",
    "from keras.preprocessing import image\n",
    "from keras.callbacks import ReduceLROnPlateau\n",
    "from keras.applications import EfficientNetB0\n",
    "from keras import layers\n",
    "from keras.models import Sequential"
   ]
  },
  {
   "cell_type": "code",
   "execution_count": 57,
   "metadata": {},
   "outputs": [
    {
     "name": "stdout",
     "output_type": "stream",
     "text": [
      "Not connected to a TPU runtime. Using CPU/GPU strategy\n"
     ]
    },
    {
     "ename": "ValueError",
     "evalue": "Unknown attribute 'p' is encountered while parsing the device spec: 'p'.",
     "output_type": "error",
     "traceback": [
      "\u001b[0;31m---------------------------------------------------------------------------\u001b[0m",
      "\u001b[0;31mValueError\u001b[0m                                Traceback (most recent call last)",
      "\u001b[1;32m/Users/harysetiawan/Documents/College Project/PCD/FinalProject/efficiennet.ipynb Cell 2'\u001b[0m in \u001b[0;36m<cell line: 1>\u001b[0;34m()\u001b[0m\n\u001b[1;32m      <a href='vscode-notebook-cell:/Users/harysetiawan/Documents/College%20Project/PCD/FinalProject/efficiennet.ipynb#ch0000009?line=0'>1</a>\u001b[0m \u001b[39mtry\u001b[39;00m:\n\u001b[0;32m----> <a href='vscode-notebook-cell:/Users/harysetiawan/Documents/College%20Project/PCD/FinalProject/efficiennet.ipynb#ch0000009?line=1'>2</a>\u001b[0m     tpu \u001b[39m=\u001b[39m tf\u001b[39m.\u001b[39;49mdistribute\u001b[39m.\u001b[39;49mcluster_resolver\u001b[39m.\u001b[39;49mTPUClusterResolver\u001b[39m.\u001b[39;49mconnect()\n\u001b[1;32m      <a href='vscode-notebook-cell:/Users/harysetiawan/Documents/College%20Project/PCD/FinalProject/efficiennet.ipynb#ch0000009?line=2'>3</a>\u001b[0m     \u001b[39mprint\u001b[39m(\u001b[39m\"\u001b[39m\u001b[39mDevice:\u001b[39m\u001b[39m\"\u001b[39m, tpu\u001b[39m.\u001b[39mmaster())\n",
      "File \u001b[0;32m~/Documents/College Project/PCD/FinalProject/venv/lib/python3.9/site-packages/tensorflow/python/distribute/cluster_resolver/tpu/tpu_cluster_resolver.py:106\u001b[0m, in \u001b[0;36mTPUClusterResolver.connect\u001b[0;34m(tpu, zone, project)\u001b[0m\n\u001b[1;32m     <a href='file:///Users/harysetiawan/Documents/College%20Project/PCD/FinalProject/venv/lib/python3.9/site-packages/tensorflow/python/distribute/cluster_resolver/tpu/tpu_cluster_resolver.py?line=74'>75</a>\u001b[0m \u001b[39m\"\"\"Initializes TPU and returns a TPUClusterResolver.\u001b[39;00m\n\u001b[1;32m     <a href='file:///Users/harysetiawan/Documents/College%20Project/PCD/FinalProject/venv/lib/python3.9/site-packages/tensorflow/python/distribute/cluster_resolver/tpu/tpu_cluster_resolver.py?line=75'>76</a>\u001b[0m \n\u001b[1;32m     <a href='file:///Users/harysetiawan/Documents/College%20Project/PCD/FinalProject/venv/lib/python3.9/site-packages/tensorflow/python/distribute/cluster_resolver/tpu/tpu_cluster_resolver.py?line=76'>77</a>\u001b[0m \u001b[39mThis API will connect to remote TPU cluster and initialize the TPU\u001b[39;00m\n\u001b[0;32m   (...)\u001b[0m\n\u001b[1;32m    <a href='file:///Users/harysetiawan/Documents/College%20Project/PCD/FinalProject/venv/lib/python3.9/site-packages/tensorflow/python/distribute/cluster_resolver/tpu/tpu_cluster_resolver.py?line=103'>104</a>\u001b[0m \u001b[39m  NotFoundError: If no TPU devices found in eager mode.\u001b[39;00m\n\u001b[1;32m    <a href='file:///Users/harysetiawan/Documents/College%20Project/PCD/FinalProject/venv/lib/python3.9/site-packages/tensorflow/python/distribute/cluster_resolver/tpu/tpu_cluster_resolver.py?line=104'>105</a>\u001b[0m \u001b[39m\"\"\"\u001b[39;00m\n\u001b[0;32m--> <a href='file:///Users/harysetiawan/Documents/College%20Project/PCD/FinalProject/venv/lib/python3.9/site-packages/tensorflow/python/distribute/cluster_resolver/tpu/tpu_cluster_resolver.py?line=105'>106</a>\u001b[0m resolver \u001b[39m=\u001b[39m TPUClusterResolver(tpu, zone, project)\n\u001b[1;32m    <a href='file:///Users/harysetiawan/Documents/College%20Project/PCD/FinalProject/venv/lib/python3.9/site-packages/tensorflow/python/distribute/cluster_resolver/tpu/tpu_cluster_resolver.py?line=106'>107</a>\u001b[0m \u001b[39mfrom\u001b[39;00m \u001b[39mtensorflow\u001b[39;00m\u001b[39m.\u001b[39;00m\u001b[39mpython\u001b[39;00m\u001b[39m.\u001b[39;00m\u001b[39meager\u001b[39;00m \u001b[39mimport\u001b[39;00m remote  \u001b[39m# pylint: disable=g-import-not-at-top\u001b[39;00m\n",
      "File \u001b[0;32m~/Documents/College Project/PCD/FinalProject/venv/lib/python3.9/site-packages/tensorflow/python/distribute/cluster_resolver/tpu/tpu_cluster_resolver.py:198\u001b[0m, in \u001b[0;36mTPUClusterResolver.__init__\u001b[0;34m(self, tpu, zone, project, job_name, coordinator_name, coordinator_address, credentials, service, discovery_url)\u001b[0m\n\u001b[1;32m    <a href='file:///Users/harysetiawan/Documents/College%20Project/PCD/FinalProject/venv/lib/python3.9/site-packages/tensorflow/python/distribute/cluster_resolver/tpu/tpu_cluster_resolver.py?line=195'>196</a>\u001b[0m \u001b[39mif\u001b[39;00m tpu \u001b[39m!=\u001b[39m \u001b[39m'\u001b[39m\u001b[39mlocal\u001b[39m\u001b[39m'\u001b[39m:\n\u001b[1;32m    <a href='file:///Users/harysetiawan/Documents/College%20Project/PCD/FinalProject/venv/lib/python3.9/site-packages/tensorflow/python/distribute/cluster_resolver/tpu/tpu_cluster_resolver.py?line=196'>197</a>\u001b[0m   \u001b[39m# Default Cloud environment\u001b[39;00m\n\u001b[0;32m--> <a href='file:///Users/harysetiawan/Documents/College%20Project/PCD/FinalProject/venv/lib/python3.9/site-packages/tensorflow/python/distribute/cluster_resolver/tpu/tpu_cluster_resolver.py?line=197'>198</a>\u001b[0m   \u001b[39mself\u001b[39m\u001b[39m.\u001b[39m_cloud_tpu_client \u001b[39m=\u001b[39m client\u001b[39m.\u001b[39;49mClient(\n\u001b[1;32m    <a href='file:///Users/harysetiawan/Documents/College%20Project/PCD/FinalProject/venv/lib/python3.9/site-packages/tensorflow/python/distribute/cluster_resolver/tpu/tpu_cluster_resolver.py?line=198'>199</a>\u001b[0m       tpu\u001b[39m=\u001b[39;49mtpu,\n\u001b[1;32m    <a href='file:///Users/harysetiawan/Documents/College%20Project/PCD/FinalProject/venv/lib/python3.9/site-packages/tensorflow/python/distribute/cluster_resolver/tpu/tpu_cluster_resolver.py?line=199'>200</a>\u001b[0m       zone\u001b[39m=\u001b[39;49mzone,\n\u001b[1;32m    <a href='file:///Users/harysetiawan/Documents/College%20Project/PCD/FinalProject/venv/lib/python3.9/site-packages/tensorflow/python/distribute/cluster_resolver/tpu/tpu_cluster_resolver.py?line=200'>201</a>\u001b[0m       project\u001b[39m=\u001b[39;49mproject,\n\u001b[1;32m    <a href='file:///Users/harysetiawan/Documents/College%20Project/PCD/FinalProject/venv/lib/python3.9/site-packages/tensorflow/python/distribute/cluster_resolver/tpu/tpu_cluster_resolver.py?line=201'>202</a>\u001b[0m       credentials\u001b[39m=\u001b[39;49mcredentials,\n\u001b[1;32m    <a href='file:///Users/harysetiawan/Documents/College%20Project/PCD/FinalProject/venv/lib/python3.9/site-packages/tensorflow/python/distribute/cluster_resolver/tpu/tpu_cluster_resolver.py?line=202'>203</a>\u001b[0m       service\u001b[39m=\u001b[39;49mservice,\n\u001b[1;32m    <a href='file:///Users/harysetiawan/Documents/College%20Project/PCD/FinalProject/venv/lib/python3.9/site-packages/tensorflow/python/distribute/cluster_resolver/tpu/tpu_cluster_resolver.py?line=203'>204</a>\u001b[0m       discovery_url\u001b[39m=\u001b[39;49mdiscovery_url)\n\u001b[1;32m    <a href='file:///Users/harysetiawan/Documents/College%20Project/PCD/FinalProject/venv/lib/python3.9/site-packages/tensorflow/python/distribute/cluster_resolver/tpu/tpu_cluster_resolver.py?line=204'>205</a>\u001b[0m   \u001b[39mself\u001b[39m\u001b[39m.\u001b[39m_tpu \u001b[39m=\u001b[39m \u001b[39mself\u001b[39m\u001b[39m.\u001b[39m_cloud_tpu_client\u001b[39m.\u001b[39mname()\n",
      "File \u001b[0;32m~/Documents/College Project/PCD/FinalProject/venv/lib/python3.9/site-packages/tensorflow/python/tpu/client/client.py:142\u001b[0m, in \u001b[0;36mClient.__init__\u001b[0;34m(self, tpu, zone, project, credentials, service, discovery_url)\u001b[0m\n\u001b[1;32m    <a href='file:///Users/harysetiawan/Documents/College%20Project/PCD/FinalProject/venv/lib/python3.9/site-packages/tensorflow/python/tpu/client/client.py?line=140'>141</a>\u001b[0m \u001b[39mif\u001b[39;00m tpu \u001b[39mis\u001b[39;00m \u001b[39mNone\u001b[39;00m:\n\u001b[0;32m--> <a href='file:///Users/harysetiawan/Documents/College%20Project/PCD/FinalProject/venv/lib/python3.9/site-packages/tensorflow/python/tpu/client/client.py?line=141'>142</a>\u001b[0m   \u001b[39mraise\u001b[39;00m \u001b[39mValueError\u001b[39;00m(\u001b[39m'\u001b[39m\u001b[39mPlease provide a TPU Name to connect to.\u001b[39m\u001b[39m'\u001b[39m)\n\u001b[1;32m    <a href='file:///Users/harysetiawan/Documents/College%20Project/PCD/FinalProject/venv/lib/python3.9/site-packages/tensorflow/python/tpu/client/client.py?line=143'>144</a>\u001b[0m \u001b[39mself\u001b[39m\u001b[39m.\u001b[39m_tpu \u001b[39m=\u001b[39m _as_text(tpu)\n",
      "\u001b[0;31mValueError\u001b[0m: Please provide a TPU Name to connect to.",
      "\nDuring handling of the above exception, another exception occurred:\n",
      "\u001b[0;31mValueError\u001b[0m                                Traceback (most recent call last)",
      "\u001b[1;32m/Users/harysetiawan/Documents/College Project/PCD/FinalProject/efficiennet.ipynb Cell 2'\u001b[0m in \u001b[0;36m<cell line: 1>\u001b[0;34m()\u001b[0m\n\u001b[1;32m      <a href='vscode-notebook-cell:/Users/harysetiawan/Documents/College%20Project/PCD/FinalProject/efficiennet.ipynb#ch0000009?line=4'>5</a>\u001b[0m \u001b[39mexcept\u001b[39;00m \u001b[39mValueError\u001b[39;00m:\n\u001b[1;32m      <a href='vscode-notebook-cell:/Users/harysetiawan/Documents/College%20Project/PCD/FinalProject/efficiennet.ipynb#ch0000009?line=5'>6</a>\u001b[0m     \u001b[39mprint\u001b[39m(\u001b[39m\"\u001b[39m\u001b[39mNot connected to a TPU runtime. Using CPU/GPU strategy\u001b[39m\u001b[39m\"\u001b[39m)\n\u001b[0;32m----> <a href='vscode-notebook-cell:/Users/harysetiawan/Documents/College%20Project/PCD/FinalProject/efficiennet.ipynb#ch0000009?line=6'>7</a>\u001b[0m     strategy \u001b[39m=\u001b[39m tf\u001b[39m.\u001b[39;49mdistribute\u001b[39m.\u001b[39;49mMirroredStrategy(devices\u001b[39m=\u001b[39;49m\u001b[39m'\u001b[39;49m\u001b[39m/physical_device:GPU:0\u001b[39;49m\u001b[39m'\u001b[39;49m)\n",
      "File \u001b[0;32m~/Documents/College Project/PCD/FinalProject/venv/lib/python3.9/site-packages/tensorflow/python/distribute/mirrored_strategy.py:286\u001b[0m, in \u001b[0;36mMirroredStrategy.__init__\u001b[0;34m(self, devices, cross_device_ops)\u001b[0m\n\u001b[1;32m    <a href='file:///Users/harysetiawan/Documents/College%20Project/PCD/FinalProject/venv/lib/python3.9/site-packages/tensorflow/python/distribute/mirrored_strategy.py?line=284'>285</a>\u001b[0m \u001b[39mdef\u001b[39;00m \u001b[39m__init__\u001b[39m(\u001b[39mself\u001b[39m, devices\u001b[39m=\u001b[39m\u001b[39mNone\u001b[39;00m, cross_device_ops\u001b[39m=\u001b[39m\u001b[39mNone\u001b[39;00m):\n\u001b[0;32m--> <a href='file:///Users/harysetiawan/Documents/College%20Project/PCD/FinalProject/venv/lib/python3.9/site-packages/tensorflow/python/distribute/mirrored_strategy.py?line=285'>286</a>\u001b[0m   extended \u001b[39m=\u001b[39m MirroredExtended(\n\u001b[1;32m    <a href='file:///Users/harysetiawan/Documents/College%20Project/PCD/FinalProject/venv/lib/python3.9/site-packages/tensorflow/python/distribute/mirrored_strategy.py?line=286'>287</a>\u001b[0m       \u001b[39mself\u001b[39;49m, devices\u001b[39m=\u001b[39;49mdevices, cross_device_ops\u001b[39m=\u001b[39;49mcross_device_ops)\n\u001b[1;32m    <a href='file:///Users/harysetiawan/Documents/College%20Project/PCD/FinalProject/venv/lib/python3.9/site-packages/tensorflow/python/distribute/mirrored_strategy.py?line=287'>288</a>\u001b[0m   \u001b[39msuper\u001b[39m(MirroredStrategy, \u001b[39mself\u001b[39m)\u001b[39m.\u001b[39m\u001b[39m__init__\u001b[39m(extended)\n\u001b[1;32m    <a href='file:///Users/harysetiawan/Documents/College%20Project/PCD/FinalProject/venv/lib/python3.9/site-packages/tensorflow/python/distribute/mirrored_strategy.py?line=288'>289</a>\u001b[0m   distribute_lib\u001b[39m.\u001b[39mdistribution_strategy_gauge\u001b[39m.\u001b[39mget_cell(\u001b[39m\"\u001b[39m\u001b[39mV2\u001b[39m\u001b[39m\"\u001b[39m)\u001b[39m.\u001b[39mset(\n\u001b[1;32m    <a href='file:///Users/harysetiawan/Documents/College%20Project/PCD/FinalProject/venv/lib/python3.9/site-packages/tensorflow/python/distribute/mirrored_strategy.py?line=289'>290</a>\u001b[0m       \u001b[39m\"\u001b[39m\u001b[39mMirroredStrategy\u001b[39m\u001b[39m\"\u001b[39m)\n",
      "File \u001b[0;32m~/Documents/College Project/PCD/FinalProject/venv/lib/python3.9/site-packages/tensorflow/python/distribute/mirrored_strategy.py:320\u001b[0m, in \u001b[0;36mMirroredExtended.__init__\u001b[0;34m(self, container_strategy, devices, cross_device_ops)\u001b[0m\n\u001b[1;32m    <a href='file:///Users/harysetiawan/Documents/College%20Project/PCD/FinalProject/venv/lib/python3.9/site-packages/tensorflow/python/distribute/mirrored_strategy.py?line=317'>318</a>\u001b[0m \u001b[39msuper\u001b[39m(MirroredExtended, \u001b[39mself\u001b[39m)\u001b[39m.\u001b[39m\u001b[39m__init__\u001b[39m(container_strategy)\n\u001b[1;32m    <a href='file:///Users/harysetiawan/Documents/College%20Project/PCD/FinalProject/venv/lib/python3.9/site-packages/tensorflow/python/distribute/mirrored_strategy.py?line=318'>319</a>\u001b[0m \u001b[39mif\u001b[39;00m context\u001b[39m.\u001b[39mexecuting_eagerly():\n\u001b[0;32m--> <a href='file:///Users/harysetiawan/Documents/College%20Project/PCD/FinalProject/venv/lib/python3.9/site-packages/tensorflow/python/distribute/mirrored_strategy.py?line=319'>320</a>\u001b[0m   \u001b[39mif\u001b[39;00m devices \u001b[39mand\u001b[39;00m \u001b[39mnot\u001b[39;00m _is_device_list_single_worker(devices):\n\u001b[1;32m    <a href='file:///Users/harysetiawan/Documents/College%20Project/PCD/FinalProject/venv/lib/python3.9/site-packages/tensorflow/python/distribute/mirrored_strategy.py?line=320'>321</a>\u001b[0m     \u001b[39mraise\u001b[39;00m \u001b[39mRuntimeError\u001b[39;00m(\u001b[39m\"\u001b[39m\u001b[39mIn-graph multi-worker training with \u001b[39m\u001b[39m\"\u001b[39m\n\u001b[1;32m    <a href='file:///Users/harysetiawan/Documents/College%20Project/PCD/FinalProject/venv/lib/python3.9/site-packages/tensorflow/python/distribute/mirrored_strategy.py?line=321'>322</a>\u001b[0m                        \u001b[39m\"\u001b[39m\u001b[39m`MirroredStrategy` is not supported in eager mode.\u001b[39m\u001b[39m\"\u001b[39m)\n\u001b[1;32m    <a href='file:///Users/harysetiawan/Documents/College%20Project/PCD/FinalProject/venv/lib/python3.9/site-packages/tensorflow/python/distribute/mirrored_strategy.py?line=322'>323</a>\u001b[0m   \u001b[39melse\u001b[39;00m:\n",
      "File \u001b[0;32m~/Documents/College Project/PCD/FinalProject/venv/lib/python3.9/site-packages/tensorflow/python/distribute/mirrored_strategy.py:71\u001b[0m, in \u001b[0;36m_is_device_list_single_worker\u001b[0;34m(devices)\u001b[0m\n\u001b[1;32m     <a href='file:///Users/harysetiawan/Documents/College%20Project/PCD/FinalProject/venv/lib/python3.9/site-packages/tensorflow/python/distribute/mirrored_strategy.py?line=68'>69</a>\u001b[0m \u001b[39mfor\u001b[39;00m d \u001b[39min\u001b[39;00m devices:\n\u001b[1;32m     <a href='file:///Users/harysetiawan/Documents/College%20Project/PCD/FinalProject/venv/lib/python3.9/site-packages/tensorflow/python/distribute/mirrored_strategy.py?line=69'>70</a>\u001b[0m   name \u001b[39m=\u001b[39m d\u001b[39m.\u001b[39mname \u001b[39mif\u001b[39;00m \u001b[39misinstance\u001b[39m(d, context\u001b[39m.\u001b[39mLogicalDevice) \u001b[39melse\u001b[39;00m d\n\u001b[0;32m---> <a href='file:///Users/harysetiawan/Documents/College%20Project/PCD/FinalProject/venv/lib/python3.9/site-packages/tensorflow/python/distribute/mirrored_strategy.py?line=70'>71</a>\u001b[0m   specs\u001b[39m.\u001b[39mappend(tf_device\u001b[39m.\u001b[39;49mDeviceSpec\u001b[39m.\u001b[39;49mfrom_string(name))\n\u001b[1;32m     <a href='file:///Users/harysetiawan/Documents/College%20Project/PCD/FinalProject/venv/lib/python3.9/site-packages/tensorflow/python/distribute/mirrored_strategy.py?line=71'>72</a>\u001b[0m num_workers \u001b[39m=\u001b[39m \u001b[39mlen\u001b[39m({(d\u001b[39m.\u001b[39mjob, d\u001b[39m.\u001b[39mtask, d\u001b[39m.\u001b[39mreplica) \u001b[39mfor\u001b[39;00m d \u001b[39min\u001b[39;00m specs})\n\u001b[1;32m     <a href='file:///Users/harysetiawan/Documents/College%20Project/PCD/FinalProject/venv/lib/python3.9/site-packages/tensorflow/python/distribute/mirrored_strategy.py?line=72'>73</a>\u001b[0m all_local \u001b[39m=\u001b[39m \u001b[39mall\u001b[39m(d\u001b[39m.\u001b[39mjob \u001b[39min\u001b[39;00m (\u001b[39mNone\u001b[39;00m, \u001b[39m\"\u001b[39m\u001b[39mlocalhost\u001b[39m\u001b[39m\"\u001b[39m) \u001b[39mfor\u001b[39;00m d \u001b[39min\u001b[39;00m specs)\n",
      "File \u001b[0;32m~/Documents/College Project/PCD/FinalProject/venv/lib/python3.9/site-packages/tensorflow/python/framework/device_spec.py:158\u001b[0m, in \u001b[0;36mDeviceSpecV2.from_string\u001b[0;34m(cls, spec)\u001b[0m\n\u001b[1;32m    <a href='file:///Users/harysetiawan/Documents/College%20Project/PCD/FinalProject/venv/lib/python3.9/site-packages/tensorflow/python/framework/device_spec.py?line=144'>145</a>\u001b[0m \u001b[39m@classmethod\u001b[39m\n\u001b[1;32m    <a href='file:///Users/harysetiawan/Documents/College%20Project/PCD/FinalProject/venv/lib/python3.9/site-packages/tensorflow/python/framework/device_spec.py?line=145'>146</a>\u001b[0m \u001b[39mdef\u001b[39;00m \u001b[39mfrom_string\u001b[39m(\u001b[39mcls\u001b[39m, spec):\n\u001b[1;32m    <a href='file:///Users/harysetiawan/Documents/College%20Project/PCD/FinalProject/venv/lib/python3.9/site-packages/tensorflow/python/framework/device_spec.py?line=146'>147</a>\u001b[0m   \u001b[39m\"\"\"Construct a `DeviceSpec` from a string.\u001b[39;00m\n\u001b[1;32m    <a href='file:///Users/harysetiawan/Documents/College%20Project/PCD/FinalProject/venv/lib/python3.9/site-packages/tensorflow/python/framework/device_spec.py?line=147'>148</a>\u001b[0m \n\u001b[1;32m    <a href='file:///Users/harysetiawan/Documents/College%20Project/PCD/FinalProject/venv/lib/python3.9/site-packages/tensorflow/python/framework/device_spec.py?line=148'>149</a>\u001b[0m \u001b[39m  Args:\u001b[39;00m\n\u001b[0;32m   (...)\u001b[0m\n\u001b[1;32m    <a href='file:///Users/harysetiawan/Documents/College%20Project/PCD/FinalProject/venv/lib/python3.9/site-packages/tensorflow/python/framework/device_spec.py?line=155'>156</a>\u001b[0m \u001b[39m    A DeviceSpec.\u001b[39;00m\n\u001b[1;32m    <a href='file:///Users/harysetiawan/Documents/College%20Project/PCD/FinalProject/venv/lib/python3.9/site-packages/tensorflow/python/framework/device_spec.py?line=156'>157</a>\u001b[0m \u001b[39m  \"\"\"\u001b[39;00m\n\u001b[0;32m--> <a href='file:///Users/harysetiawan/Documents/College%20Project/PCD/FinalProject/venv/lib/python3.9/site-packages/tensorflow/python/framework/device_spec.py?line=157'>158</a>\u001b[0m   \u001b[39mreturn\u001b[39;00m \u001b[39mcls\u001b[39m(\u001b[39m*\u001b[39m\u001b[39mcls\u001b[39;49m\u001b[39m.\u001b[39;49m_string_to_components(spec))\n",
      "File \u001b[0;32m~/Documents/College Project/PCD/FinalProject/venv/lib/python3.9/site-packages/tensorflow/python/framework/device_spec.py:362\u001b[0m, in \u001b[0;36mDeviceSpecV2._string_to_components\u001b[0;34m(spec)\u001b[0m\n\u001b[1;32m    <a href='file:///Users/harysetiawan/Documents/College%20Project/PCD/FinalProject/venv/lib/python3.9/site-packages/tensorflow/python/framework/device_spec.py?line=359'>360</a>\u001b[0m         device_index \u001b[39m=\u001b[39m \u001b[39mint\u001b[39m(y[\u001b[39m2\u001b[39m])\n\u001b[1;32m    <a href='file:///Users/harysetiawan/Documents/College%20Project/PCD/FinalProject/venv/lib/python3.9/site-packages/tensorflow/python/framework/device_spec.py?line=360'>361</a>\u001b[0m     \u001b[39melif\u001b[39;00m ly \u001b[39mand\u001b[39;00m y[\u001b[39m0\u001b[39m] \u001b[39m!=\u001b[39m \u001b[39m\"\u001b[39m\u001b[39m\"\u001b[39m:  \u001b[39m# pylint: disable=g-explicit-bool-comparison\u001b[39;00m\n\u001b[0;32m--> <a href='file:///Users/harysetiawan/Documents/College%20Project/PCD/FinalProject/venv/lib/python3.9/site-packages/tensorflow/python/framework/device_spec.py?line=361'>362</a>\u001b[0m       \u001b[39mraise\u001b[39;00m \u001b[39mValueError\u001b[39;00m(\u001b[39mf\u001b[39m\u001b[39m\"\u001b[39m\u001b[39mUnknown attribute \u001b[39m\u001b[39m'\u001b[39m\u001b[39m{\u001b[39;00my[\u001b[39m0\u001b[39m]\u001b[39m}\u001b[39;00m\u001b[39m'\u001b[39m\u001b[39m is encountered \u001b[39m\u001b[39m\"\u001b[39m\n\u001b[1;32m    <a href='file:///Users/harysetiawan/Documents/College%20Project/PCD/FinalProject/venv/lib/python3.9/site-packages/tensorflow/python/framework/device_spec.py?line=362'>363</a>\u001b[0m                        \u001b[39mf\u001b[39m\u001b[39m\"\u001b[39m\u001b[39mwhile parsing the device spec: \u001b[39m\u001b[39m'\u001b[39m\u001b[39m{\u001b[39;00mspec\u001b[39m}\u001b[39;00m\u001b[39m'\u001b[39m\u001b[39m.\u001b[39m\u001b[39m\"\u001b[39m)\n\u001b[1;32m    <a href='file:///Users/harysetiawan/Documents/College%20Project/PCD/FinalProject/venv/lib/python3.9/site-packages/tensorflow/python/framework/device_spec.py?line=364'>365</a>\u001b[0m output \u001b[39m=\u001b[39m (job, replica, task, device_type, device_index)\n\u001b[1;32m    <a href='file:///Users/harysetiawan/Documents/College%20Project/PCD/FinalProject/venv/lib/python3.9/site-packages/tensorflow/python/framework/device_spec.py?line=365'>366</a>\u001b[0m _STRING_TO_COMPONENTS_CACHE[raw_spec] \u001b[39m=\u001b[39m output\n",
      "\u001b[0;31mValueError\u001b[0m: Unknown attribute 'p' is encountered while parsing the device spec: 'p'."
     ]
    }
   ],
   "source": [
    "try:\n",
    "    tpu = tf.distribute.cluster_resolver.TPUClusterResolver.connect()\n",
    "    print(\"Device:\", tpu.master())\n",
    "    strategy = tf.distribute.TPUStrategy(tpu)\n",
    "except ValueError:\n",
    "    print(\"Not connected to a TPU runtime. Using CPU/GPU strategy\")\n",
    "    strategy = tf.distribute.MirroredStrategy(devices='/physical_device:GPU:0')"
   ]
  },
  {
   "cell_type": "code",
   "execution_count": 52,
   "metadata": {},
   "outputs": [
    {
     "data": {
      "text/plain": [
       "[PhysicalDevice(name='/physical_device:CPU:0', device_type='CPU'),\n",
       " PhysicalDevice(name='/physical_device:GPU:0', device_type='GPU')]"
      ]
     },
     "execution_count": 52,
     "metadata": {},
     "output_type": "execute_result"
    }
   ],
   "source": [
    "tf.config.list_physical_devices()"
   ]
  },
  {
   "cell_type": "code",
   "execution_count": 53,
   "metadata": {},
   "outputs": [],
   "source": [
    "base_dir = 'dataset'\n",
    "train_dir = os.path.join(base_dir, 'train')\n",
    "test_dir = os.path.join(base_dir, 'test')"
   ]
  },
  {
   "cell_type": "code",
   "execution_count": 54,
   "metadata": {},
   "outputs": [
    {
     "name": "stdout",
     "output_type": "stream",
     "text": [
      "Found 1061 images belonging to 4 classes.\n",
      "Found 357 images belonging to 4 classes.\n"
     ]
    }
   ],
   "source": [
    "train_datagen = ImageDataGenerator(\n",
    "                rescale=1./255,\n",
    "                rotation_range=20,\n",
    "                horizontal_flip=True,\n",
    "                width_shift_range=0.2,\n",
    "                height_shift_range=0.2,\n",
    "                shear_range=0.2,\n",
    "                zoom_range=0.2,\n",
    "                vertical_flip=True,\n",
    "                fill_mode='nearest',\n",
    "                validation_split=0.3)\n",
    "\n",
    "validation_datagen = ImageDataGenerator(rescale = 1.0/255,\n",
    "                                        validation_split=0.4)\n",
    "\n",
    "train_generator = train_datagen.flow_from_directory(\n",
    "        train_dir,  \n",
    "        target_size=(150,150),\n",
    "        batch_size=5,\n",
    "        class_mode='categorical',\n",
    "        subset='training')\n",
    "\n",
    "validation_generator = validation_datagen.flow_from_directory(\n",
    "        test_dir, \n",
    "        target_size=(150,150), \n",
    "        batch_size=5,\n",
    "        class_mode='categorical',\n",
    "        subset='validation')"
   ]
  },
  {
   "cell_type": "code",
   "execution_count": 55,
   "metadata": {},
   "outputs": [
    {
     "ename": "AttributeError",
     "evalue": "'CrossDeviceOps' object has no attribute 'scope'",
     "output_type": "error",
     "traceback": [
      "\u001b[0;31m---------------------------------------------------------------------------\u001b[0m",
      "\u001b[0;31mAttributeError\u001b[0m                            Traceback (most recent call last)",
      "\u001b[1;32m/Users/harysetiawan/Documents/College Project/PCD/FinalProject/efficiennet.ipynb Cell 6'\u001b[0m in \u001b[0;36m<cell line: 14>\u001b[0;34m()\u001b[0m\n\u001b[1;32m      <a href='vscode-notebook-cell:/Users/harysetiawan/Documents/College%20Project/PCD/FinalProject/efficiennet.ipynb#ch0000004?line=1'>2</a>\u001b[0m NUM_CLASSES \u001b[39m=\u001b[39m \u001b[39m4\u001b[39m\n\u001b[1;32m      <a href='vscode-notebook-cell:/Users/harysetiawan/Documents/College%20Project/PCD/FinalProject/efficiennet.ipynb#ch0000004?line=3'>4</a>\u001b[0m img_augmentation \u001b[39m=\u001b[39m Sequential(\n\u001b[1;32m      <a href='vscode-notebook-cell:/Users/harysetiawan/Documents/College%20Project/PCD/FinalProject/efficiennet.ipynb#ch0000004?line=4'>5</a>\u001b[0m     [\n\u001b[1;32m      <a href='vscode-notebook-cell:/Users/harysetiawan/Documents/College%20Project/PCD/FinalProject/efficiennet.ipynb#ch0000004?line=5'>6</a>\u001b[0m         layers\u001b[39m.\u001b[39mRandomRotation(factor\u001b[39m=\u001b[39m\u001b[39m0.15\u001b[39m),\n\u001b[0;32m   (...)\u001b[0m\n\u001b[1;32m     <a href='vscode-notebook-cell:/Users/harysetiawan/Documents/College%20Project/PCD/FinalProject/efficiennet.ipynb#ch0000004?line=10'>11</a>\u001b[0m     name\u001b[39m=\u001b[39m\u001b[39m\"\u001b[39m\u001b[39mimg_augmentation\u001b[39m\u001b[39m\"\u001b[39m,\n\u001b[1;32m     <a href='vscode-notebook-cell:/Users/harysetiawan/Documents/College%20Project/PCD/FinalProject/efficiennet.ipynb#ch0000004?line=11'>12</a>\u001b[0m )\n\u001b[0;32m---> <a href='vscode-notebook-cell:/Users/harysetiawan/Documents/College%20Project/PCD/FinalProject/efficiennet.ipynb#ch0000004?line=13'>14</a>\u001b[0m \u001b[39mwith\u001b[39;00m strategy\u001b[39m.\u001b[39;49mscope():\n\u001b[1;32m     <a href='vscode-notebook-cell:/Users/harysetiawan/Documents/College%20Project/PCD/FinalProject/efficiennet.ipynb#ch0000004?line=14'>15</a>\u001b[0m     inputs \u001b[39m=\u001b[39m layers\u001b[39m.\u001b[39mInput(shape\u001b[39m=\u001b[39m(IMG_SIZE, IMG_SIZE, \u001b[39m3\u001b[39m))\n\u001b[1;32m     <a href='vscode-notebook-cell:/Users/harysetiawan/Documents/College%20Project/PCD/FinalProject/efficiennet.ipynb#ch0000004?line=15'>16</a>\u001b[0m     x \u001b[39m=\u001b[39m img_augmentation(inputs)\n",
      "\u001b[0;31mAttributeError\u001b[0m: 'CrossDeviceOps' object has no attribute 'scope'"
     ]
    }
   ],
   "source": [
    "IMG_SIZE = 224\n",
    "NUM_CLASSES = 4\n",
    "\n",
    "img_augmentation = Sequential(\n",
    "    [\n",
    "        layers.RandomRotation(factor=0.15),\n",
    "        layers.RandomTranslation(height_factor=0.1, width_factor=0.1),\n",
    "        layers.RandomFlip(),\n",
    "        layers.RandomContrast(factor=0.1),\n",
    "    ],\n",
    "    name=\"img_augmentation\",\n",
    ")\n",
    "\n",
    "with strategy.scope():\n",
    "    inputs = layers.Input(shape=(IMG_SIZE, IMG_SIZE, 3))\n",
    "    x = img_augmentation(inputs)\n",
    "    outputs = EfficientNetB0(include_top=True, weights=None, classes=NUM_CLASSES)(x)\n",
    "\n",
    "    model = tf.keras.Model(inputs, outputs)\n",
    "    model.compile(\n",
    "        optimizer=\"adam\", loss=\"categorical_crossentropy\", metrics=[\"accuracy\"]\n",
    "    )\n",
    "\n",
    "\n",
    "epochs = 10  # @param {type: \"slider\", min:10, max:100}"
   ]
  },
  {
   "cell_type": "code",
   "execution_count": 49,
   "metadata": {},
   "outputs": [
    {
     "name": "stdout",
     "output_type": "stream",
     "text": [
      "Epoch 1/10\n",
      "WARNING:tensorflow:Using a while_loop for converting RngReadAndSkip\n",
      "WARNING:tensorflow:Using a while_loop for converting Bitcast\n",
      "WARNING:tensorflow:Using a while_loop for converting Bitcast\n"
     ]
    },
    {
     "name": "stderr",
     "output_type": "stream",
     "text": [
      "2022-06-12 18:36:07.931674: W tensorflow/core/grappler/optimizers/data/auto_shard.cc:776] AUTO sharding policy will apply DATA sharding policy as it failed to apply FILE sharding policy because of the following reason: Did not find a shardable source, walked to a node which is not a dataset: name: \"FlatMapDataset/_2\"\n",
      "op: \"FlatMapDataset\"\n",
      "input: \"TensorDataset/_1\"\n",
      "attr {\n",
      "  key: \"Targuments\"\n",
      "  value {\n",
      "    list {\n",
      "    }\n",
      "  }\n",
      "}\n",
      "attr {\n",
      "  key: \"_cardinality\"\n",
      "  value {\n",
      "    i: -2\n",
      "  }\n",
      "}\n",
      "attr {\n",
      "  key: \"f\"\n",
      "  value {\n",
      "    func {\n",
      "      name: \"__inference_Dataset_flat_map_flat_map_fn_180601\"\n",
      "    }\n",
      "  }\n",
      "}\n",
      "attr {\n",
      "  key: \"metadata\"\n",
      "  value {\n",
      "    s: \"\\n\\021FlatMapDataset:38\"\n",
      "  }\n",
      "}\n",
      "attr {\n",
      "  key: \"output_shapes\"\n",
      "  value {\n",
      "    list {\n",
      "      shape {\n",
      "        dim {\n",
      "          size: -1\n",
      "        }\n",
      "        dim {\n",
      "          size: -1\n",
      "        }\n",
      "        dim {\n",
      "          size: -1\n",
      "        }\n",
      "        dim {\n",
      "          size: -1\n",
      "        }\n",
      "      }\n",
      "      shape {\n",
      "        dim {\n",
      "          size: -1\n",
      "        }\n",
      "        dim {\n",
      "          size: -1\n",
      "        }\n",
      "      }\n",
      "    }\n",
      "  }\n",
      "}\n",
      "attr {\n",
      "  key: \"output_types\"\n",
      "  value {\n",
      "    list {\n",
      "      type: DT_FLOAT\n",
      "      type: DT_FLOAT\n",
      "    }\n",
      "  }\n",
      "}\n",
      "experimental_type {\n",
      "  type_id: TFT_PRODUCT\n",
      "  args {\n",
      "    type_id: TFT_DATASET\n",
      "    args {\n",
      "      type_id: TFT_PRODUCT\n",
      "      args {\n",
      "        type_id: TFT_TENSOR\n",
      "        args {\n",
      "          type_id: TFT_FLOAT\n",
      "        }\n",
      "      }\n",
      "      args {\n",
      "        type_id: TFT_TENSOR\n",
      "        args {\n",
      "          type_id: TFT_FLOAT\n",
      "        }\n",
      "      }\n",
      "    }\n",
      "  }\n",
      "}\n",
      ". Consider either turning off auto-sharding or switching the auto_shard_policy to DATA to shard this dataset. You can do this by creating a new `tf.data.Options()` object then setting `options.experimental_distribute.auto_shard_policy = AutoShardPolicy.DATA` before applying the options object to the dataset via `dataset.with_options(options)`.\n",
      "2022-06-12 18:36:07.955702: I tensorflow/core/grappler/optimizers/custom_graph_optimizer_registry.cc:113] Plugin optimizer for device_type GPU is enabled.\n",
      "2022-06-12 18:36:07.957621: I tensorflow/core/grappler/optimizers/custom_graph_optimizer_registry.cc:113] Plugin optimizer for device_type GPU is enabled.\n",
      "2022-06-12 18:36:07.980064: I tensorflow/core/grappler/optimizers/custom_graph_optimizer_registry.cc:113] Plugin optimizer for device_type GPU is enabled.\n",
      "2022-06-12 18:36:07.982218: I tensorflow/core/grappler/optimizers/custom_graph_optimizer_registry.cc:113] Plugin optimizer for device_type GPU is enabled.\n"
     ]
    },
    {
     "name": "stdout",
     "output_type": "stream",
     "text": [
      "WARNING:tensorflow:Using a while_loop for converting StatelessRandomUniformV2\n",
      "WARNING:tensorflow:Using a while_loop for converting RngReadAndSkip\n",
      "WARNING:tensorflow:Using a while_loop for converting Bitcast\n",
      "WARNING:tensorflow:Using a while_loop for converting Bitcast\n",
      "WARNING:tensorflow:Using a while_loop for converting StatelessRandomUniformV2\n",
      "WARNING:tensorflow:Using a while_loop for converting ImageProjectiveTransformV3\n",
      "WARNING:tensorflow:Using a while_loop for converting RngReadAndSkip\n",
      "WARNING:tensorflow:Using a while_loop for converting Bitcast\n",
      "WARNING:tensorflow:Using a while_loop for converting Bitcast\n",
      "WARNING:tensorflow:Using a while_loop for converting StatelessRandomUniformFullIntV2\n",
      "WARNING:tensorflow:Using a while_loop for converting StatelessRandomGetKeyCounter\n",
      "WARNING:tensorflow:Using a while_loop for converting StatelessRandomUniformV2\n",
      "WARNING:tensorflow:Using a while_loop for converting AdjustContrastv2\n",
      "WARNING:tensorflow:Using a while_loop for converting RngReadAndSkip\n",
      "WARNING:tensorflow:Using a while_loop for converting Bitcast\n",
      "WARNING:tensorflow:Using a while_loop for converting Bitcast\n",
      "WARNING:tensorflow:Using a while_loop for converting StatelessRandomUniformV2\n",
      "WARNING:tensorflow:Using a while_loop for converting RngReadAndSkip\n",
      "WARNING:tensorflow:Using a while_loop for converting Bitcast\n",
      "WARNING:tensorflow:Using a while_loop for converting Bitcast\n",
      "WARNING:tensorflow:Using a while_loop for converting StatelessRandomUniformV2\n",
      "WARNING:tensorflow:Using a while_loop for converting ImageProjectiveTransformV3\n",
      "WARNING:tensorflow:Using a while_loop for converting RngReadAndSkip\n",
      "WARNING:tensorflow:Using a while_loop for converting Bitcast\n",
      "WARNING:tensorflow:Using a while_loop for converting Bitcast\n",
      "WARNING:tensorflow:Using a while_loop for converting StatelessRandomUniformFullIntV2\n",
      "WARNING:tensorflow:Using a while_loop for converting StatelessRandomGetKeyCounter\n",
      "WARNING:tensorflow:Using a while_loop for converting StatelessRandomUniformV2\n",
      "WARNING:tensorflow:Using a while_loop for converting AdjustContrastv2\n"
     ]
    },
    {
     "ename": "InvalidArgumentError",
     "evalue": "Cannot assign a device for operation model_10/img_augmentation/random_rotation_11/stateful_uniform/RngReadAndSkip: Could not satisfy explicit device specification '/job:localhost/replica:0/task:0/device:GPU:0' because no supported kernel for GPU devices is available.\nColocation Debug Info:\nColocation group had the following types and supported devices: \nRoot Member(assigned_device_name_index_=2 requested_device_name_='/job:localhost/replica:0/task:0/device:GPU:0' assigned_device_name_='/job:localhost/replica:0/task:0/device:GPU:0' resource_device_name_='/job:localhost/replica:0/task:0/device:GPU:0' supported_device_types_=[CPU] possible_devices_=[]\nRngReadAndSkip: CPU \n_Arg: GPU CPU \n\nColocation members, user-requested devices, and framework assigned devices, if any:\n  model_10_img_augmentation_random_rotation_11_stateful_uniform_rngreadandskip_resource (_Arg)  framework assigned device=/job:localhost/replica:0/task:0/device:GPU:0\n  model_10/img_augmentation/random_rotation_11/stateful_uniform/RngReadAndSkip (RngReadAndSkip) /job:localhost/replica:0/task:0/device:GPU:0\n\nOp: RngReadAndSkip\nNode attrs: \nRegistered kernels:\n  device='XLA_CPU_JIT'\n  device='CPU'\n\n\t [[{{node model_10/img_augmentation/random_rotation_11/stateful_uniform/RngReadAndSkip}}]] [Op:__inference_train_function_199960]",
     "output_type": "error",
     "traceback": [
      "\u001b[0;31m---------------------------------------------------------------------------\u001b[0m",
      "\u001b[0;31mInvalidArgumentError\u001b[0m                      Traceback (most recent call last)",
      "\u001b[1;32m/Users/harysetiawan/Documents/College Project/PCD/FinalProject/efficiennet.ipynb Cell 7'\u001b[0m in \u001b[0;36m<cell line: 11>\u001b[0;34m()\u001b[0m\n\u001b[1;32m      <a href='vscode-notebook-cell:/Users/harysetiawan/Documents/College%20Project/PCD/FinalProject/efficiennet.ipynb#ch0000005?line=0'>1</a>\u001b[0m learning_rate_reduction \u001b[39m=\u001b[39m ReduceLROnPlateau(monitor\u001b[39m=\u001b[39m\u001b[39m'\u001b[39m\u001b[39mval_accuracy\u001b[39m\u001b[39m'\u001b[39m,\n\u001b[1;32m      <a href='vscode-notebook-cell:/Users/harysetiawan/Documents/College%20Project/PCD/FinalProject/efficiennet.ipynb#ch0000005?line=1'>2</a>\u001b[0m                                             patience\u001b[39m=\u001b[39m\u001b[39m2\u001b[39m,\n\u001b[1;32m      <a href='vscode-notebook-cell:/Users/harysetiawan/Documents/College%20Project/PCD/FinalProject/efficiennet.ipynb#ch0000005?line=2'>3</a>\u001b[0m                                             verbose\u001b[39m=\u001b[39m\u001b[39m1\u001b[39m,\n\u001b[1;32m      <a href='vscode-notebook-cell:/Users/harysetiawan/Documents/College%20Project/PCD/FinalProject/efficiennet.ipynb#ch0000005?line=3'>4</a>\u001b[0m                                             factor\u001b[39m=\u001b[39m\u001b[39m0.5\u001b[39m,\n\u001b[1;32m      <a href='vscode-notebook-cell:/Users/harysetiawan/Documents/College%20Project/PCD/FinalProject/efficiennet.ipynb#ch0000005?line=4'>5</a>\u001b[0m                                             min_lr\u001b[39m=\u001b[39m\u001b[39m0.000003\u001b[39m)\n\u001b[1;32m      <a href='vscode-notebook-cell:/Users/harysetiawan/Documents/College%20Project/PCD/FinalProject/efficiennet.ipynb#ch0000005?line=6'>7</a>\u001b[0m model\u001b[39m.\u001b[39mcompile(loss\u001b[39m=\u001b[39m\u001b[39m'\u001b[39m\u001b[39mcategorical_crossentropy\u001b[39m\u001b[39m'\u001b[39m,\n\u001b[1;32m      <a href='vscode-notebook-cell:/Users/harysetiawan/Documents/College%20Project/PCD/FinalProject/efficiennet.ipynb#ch0000005?line=7'>8</a>\u001b[0m                 optimizer\u001b[39m=\u001b[39m\u001b[39m'\u001b[39m\u001b[39madam\u001b[39m\u001b[39m'\u001b[39m,\n\u001b[1;32m      <a href='vscode-notebook-cell:/Users/harysetiawan/Documents/College%20Project/PCD/FinalProject/efficiennet.ipynb#ch0000005?line=8'>9</a>\u001b[0m                 metrics\u001b[39m=\u001b[39m[\u001b[39m'\u001b[39m\u001b[39maccuracy\u001b[39m\u001b[39m'\u001b[39m])\n\u001b[0;32m---> <a href='vscode-notebook-cell:/Users/harysetiawan/Documents/College%20Project/PCD/FinalProject/efficiennet.ipynb#ch0000005?line=10'>11</a>\u001b[0m history \u001b[39m=\u001b[39m model\u001b[39m.\u001b[39;49mfit(\n\u001b[1;32m     <a href='vscode-notebook-cell:/Users/harysetiawan/Documents/College%20Project/PCD/FinalProject/efficiennet.ipynb#ch0000005?line=11'>12</a>\u001b[0m     train_generator,\n\u001b[1;32m     <a href='vscode-notebook-cell:/Users/harysetiawan/Documents/College%20Project/PCD/FinalProject/efficiennet.ipynb#ch0000005?line=12'>13</a>\u001b[0m     epochs\u001b[39m=\u001b[39;49m\u001b[39m10\u001b[39;49m,\n\u001b[1;32m     <a href='vscode-notebook-cell:/Users/harysetiawan/Documents/College%20Project/PCD/FinalProject/efficiennet.ipynb#ch0000005?line=13'>14</a>\u001b[0m     validation_data\u001b[39m=\u001b[39;49mvalidation_generator,\n\u001b[1;32m     <a href='vscode-notebook-cell:/Users/harysetiawan/Documents/College%20Project/PCD/FinalProject/efficiennet.ipynb#ch0000005?line=14'>15</a>\u001b[0m     callbacks\u001b[39m=\u001b[39;49m[learning_rate_reduction])\n",
      "File \u001b[0;32m~/Documents/College Project/PCD/FinalProject/venv/lib/python3.9/site-packages/keras/utils/traceback_utils.py:67\u001b[0m, in \u001b[0;36mfilter_traceback.<locals>.error_handler\u001b[0;34m(*args, **kwargs)\u001b[0m\n\u001b[1;32m     <a href='file:///Users/harysetiawan/Documents/College%20Project/PCD/FinalProject/venv/lib/python3.9/site-packages/keras/utils/traceback_utils.py?line=64'>65</a>\u001b[0m \u001b[39mexcept\u001b[39;00m \u001b[39mException\u001b[39;00m \u001b[39mas\u001b[39;00m e:  \u001b[39m# pylint: disable=broad-except\u001b[39;00m\n\u001b[1;32m     <a href='file:///Users/harysetiawan/Documents/College%20Project/PCD/FinalProject/venv/lib/python3.9/site-packages/keras/utils/traceback_utils.py?line=65'>66</a>\u001b[0m   filtered_tb \u001b[39m=\u001b[39m _process_traceback_frames(e\u001b[39m.\u001b[39m__traceback__)\n\u001b[0;32m---> <a href='file:///Users/harysetiawan/Documents/College%20Project/PCD/FinalProject/venv/lib/python3.9/site-packages/keras/utils/traceback_utils.py?line=66'>67</a>\u001b[0m   \u001b[39mraise\u001b[39;00m e\u001b[39m.\u001b[39mwith_traceback(filtered_tb) \u001b[39mfrom\u001b[39;00m \u001b[39mNone\u001b[39m\n\u001b[1;32m     <a href='file:///Users/harysetiawan/Documents/College%20Project/PCD/FinalProject/venv/lib/python3.9/site-packages/keras/utils/traceback_utils.py?line=67'>68</a>\u001b[0m \u001b[39mfinally\u001b[39;00m:\n\u001b[1;32m     <a href='file:///Users/harysetiawan/Documents/College%20Project/PCD/FinalProject/venv/lib/python3.9/site-packages/keras/utils/traceback_utils.py?line=68'>69</a>\u001b[0m   \u001b[39mdel\u001b[39;00m filtered_tb\n",
      "File \u001b[0;32m~/Documents/College Project/PCD/FinalProject/venv/lib/python3.9/site-packages/tensorflow/python/eager/execute.py:54\u001b[0m, in \u001b[0;36mquick_execute\u001b[0;34m(op_name, num_outputs, inputs, attrs, ctx, name)\u001b[0m\n\u001b[1;32m     <a href='file:///Users/harysetiawan/Documents/College%20Project/PCD/FinalProject/venv/lib/python3.9/site-packages/tensorflow/python/eager/execute.py?line=51'>52</a>\u001b[0m \u001b[39mtry\u001b[39;00m:\n\u001b[1;32m     <a href='file:///Users/harysetiawan/Documents/College%20Project/PCD/FinalProject/venv/lib/python3.9/site-packages/tensorflow/python/eager/execute.py?line=52'>53</a>\u001b[0m   ctx\u001b[39m.\u001b[39mensure_initialized()\n\u001b[0;32m---> <a href='file:///Users/harysetiawan/Documents/College%20Project/PCD/FinalProject/venv/lib/python3.9/site-packages/tensorflow/python/eager/execute.py?line=53'>54</a>\u001b[0m   tensors \u001b[39m=\u001b[39m pywrap_tfe\u001b[39m.\u001b[39mTFE_Py_Execute(ctx\u001b[39m.\u001b[39m_handle, device_name, op_name,\n\u001b[1;32m     <a href='file:///Users/harysetiawan/Documents/College%20Project/PCD/FinalProject/venv/lib/python3.9/site-packages/tensorflow/python/eager/execute.py?line=54'>55</a>\u001b[0m                                       inputs, attrs, num_outputs)\n\u001b[1;32m     <a href='file:///Users/harysetiawan/Documents/College%20Project/PCD/FinalProject/venv/lib/python3.9/site-packages/tensorflow/python/eager/execute.py?line=55'>56</a>\u001b[0m \u001b[39mexcept\u001b[39;00m core\u001b[39m.\u001b[39m_NotOkStatusException \u001b[39mas\u001b[39;00m e:\n\u001b[1;32m     <a href='file:///Users/harysetiawan/Documents/College%20Project/PCD/FinalProject/venv/lib/python3.9/site-packages/tensorflow/python/eager/execute.py?line=56'>57</a>\u001b[0m   \u001b[39mif\u001b[39;00m name \u001b[39mis\u001b[39;00m \u001b[39mnot\u001b[39;00m \u001b[39mNone\u001b[39;00m:\n",
      "\u001b[0;31mInvalidArgumentError\u001b[0m: Cannot assign a device for operation model_10/img_augmentation/random_rotation_11/stateful_uniform/RngReadAndSkip: Could not satisfy explicit device specification '/job:localhost/replica:0/task:0/device:GPU:0' because no supported kernel for GPU devices is available.\nColocation Debug Info:\nColocation group had the following types and supported devices: \nRoot Member(assigned_device_name_index_=2 requested_device_name_='/job:localhost/replica:0/task:0/device:GPU:0' assigned_device_name_='/job:localhost/replica:0/task:0/device:GPU:0' resource_device_name_='/job:localhost/replica:0/task:0/device:GPU:0' supported_device_types_=[CPU] possible_devices_=[]\nRngReadAndSkip: CPU \n_Arg: GPU CPU \n\nColocation members, user-requested devices, and framework assigned devices, if any:\n  model_10_img_augmentation_random_rotation_11_stateful_uniform_rngreadandskip_resource (_Arg)  framework assigned device=/job:localhost/replica:0/task:0/device:GPU:0\n  model_10/img_augmentation/random_rotation_11/stateful_uniform/RngReadAndSkip (RngReadAndSkip) /job:localhost/replica:0/task:0/device:GPU:0\n\nOp: RngReadAndSkip\nNode attrs: \nRegistered kernels:\n  device='XLA_CPU_JIT'\n  device='CPU'\n\n\t [[{{node model_10/img_augmentation/random_rotation_11/stateful_uniform/RngReadAndSkip}}]] [Op:__inference_train_function_199960]"
     ]
    }
   ],
   "source": [
    "learning_rate_reduction = ReduceLROnPlateau(monitor='val_accuracy',\n",
    "                                            patience=2,\n",
    "                                            verbose=1,\n",
    "                                            factor=0.5,\n",
    "                                            min_lr=0.000003)\n",
    "                                            \n",
    "model.compile(loss='categorical_crossentropy',\n",
    "                optimizer='adam',\n",
    "                metrics=['accuracy'])\n",
    "\n",
    "history = model.fit(\n",
    "    train_generator,\n",
    "    epochs=10,\n",
    "    validation_data=validation_generator,\n",
    "    callbacks=[learning_rate_reduction])"
   ]
  },
  {
   "cell_type": "code",
   "execution_count": null,
   "metadata": {},
   "outputs": [],
   "source": [
    "def eval_plot(history):\n",
    "    \n",
    "    plt.figure(figsize=(14, 5))\n",
    "\n",
    "    # Accuracy plot\n",
    "    plt.subplot(1, 2, 1)\n",
    "    acc = history.history['accuracy']\n",
    "    val_acc = history.history['val_accuracy']\n",
    "    epochs = range(len(acc))\n",
    "    acc_plot, = plt.plot(epochs, acc, 'r')\n",
    "    val_acc_plot, = plt.plot(epochs, val_acc, 'b')\n",
    "    plt.title('Training and Validation Accuracy')\n",
    "    plt.legend([acc_plot, val_acc_plot], ['Training Accuracy', 'Validation Accuracy'])\n",
    "\n",
    "    # Loss plot\n",
    "    plt.subplot(1, 2, 2)\n",
    "    loss = history.history['loss']\n",
    "    val_loss = history.history['val_loss']\n",
    "    epochs = range(len(loss))\n",
    "    loss_plot, = plt.plot(epochs, loss, 'r')\n",
    "    val_loss_plot, = plt.plot(epochs, val_loss, 'b')\n",
    "    plt.title('Training and Validation Loss')\n",
    "    plt.legend([loss_plot, val_loss_plot], ['Training Loss', 'Validation Loss'])\n",
    "\n",
    "def evaluate(model):\n",
    "    \n",
    "    validation_generator = train_datagen.flow_from_directory(\n",
    "            train_dir, \n",
    "            target_size=(150,150), \n",
    "            batch_size=10, \n",
    "            class_mode='categorical',\n",
    "            shuffle = False,\n",
    "            subset='validation')\n",
    "\n",
    "    batch_size = 10\n",
    "    num_of_test_samples = len(validation_generator.filenames)\n",
    "\n",
    "    Y_pred = model.predict_generator(validation_generator, num_of_test_samples // batch_size+1)\n",
    "    y_pred = np.argmax(Y_pred, axis=1)\n",
    "\n",
    "    print('\\nConfusion Matrix\\n')\n",
    "    print(confusion_matrix(validation_generator.classes, y_pred))\n",
    "\n",
    "\n",
    "    print('\\n\\nClassification Report\\n')\n",
    "    target_names = ['GINA', 'MATAHARI', 'SIRAT','ULI']\n",
    "    print(classification_report(validation_generator.classes, y_pred, target_names=target_names))\n",
    "\n",
    "def predict_image(image_upload, model = model):\n",
    "    im = image_upload\n",
    "    im_array = np.asarray(im)\n",
    "    im_array = im_array*(1/225)\n",
    "    im_input = tf.reshape(im_array, shape = [1, 150, 150, 3])\n",
    "\n",
    "    predict_proba = sorted(model.predict(im_input)[0])[2]\n",
    "    predict_class = np.argmax(model.predict(im_input))\n",
    "\n",
    "    if predict_class == 0:\n",
    "        predict_label = 'Paper'\n",
    "    elif predict_class == 1:\n",
    "        predict_label = 'Rock'\n",
    "    else:\n",
    "        predict_label = 'Scissor'\n",
    "\n",
    "    print('\\n')\n",
    "    plt.show()\n",
    "    print(\"\\nImage prediction result: \", predict_label)\n",
    "    print(\"Probability: \", round(predict_proba*100,2), \"%\")\n",
    "    print('\\n')"
   ]
  },
  {
   "cell_type": "code",
   "execution_count": null,
   "metadata": {},
   "outputs": [],
   "source": [
    "eval_plot(history)\n",
    "evaluate(model)\n"
   ]
  }
 ],
 "metadata": {
  "kernelspec": {
   "display_name": "Python 3.9.12 ('venv': venv)",
   "language": "python",
   "name": "python3"
  },
  "language_info": {
   "codemirror_mode": {
    "name": "ipython",
    "version": 3
   },
   "file_extension": ".py",
   "mimetype": "text/x-python",
   "name": "python",
   "nbconvert_exporter": "python",
   "pygments_lexer": "ipython3",
   "version": "3.9.12"
  },
  "orig_nbformat": 4,
  "vscode": {
   "interpreter": {
    "hash": "d2bece30c987821ee4a04d8c27dbd412385bc7790b4b5e1e5db4f2caf599d87c"
   }
  }
 },
 "nbformat": 4,
 "nbformat_minor": 2
}
