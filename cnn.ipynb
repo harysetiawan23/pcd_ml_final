{
 "cells": [
  {
   "cell_type": "code",
   "execution_count": 6,
   "metadata": {},
   "outputs": [],
   "source": [
    "import tensorflow as tf\n",
    "import zipfile\n",
    "import os\n",
    "import matplotlib.pyplot as plt\n",
    "import numpy as np\n",
    "import matplotlib.image as mpimg\n",
    "from keras.preprocessing.image import ImageDataGenerator\n",
    "from sklearn.metrics import classification_report, confusion_matrix\n",
    "from keras.preprocessing import image\n",
    "from keras.callbacks import ReduceLROnPlateau"
   ]
  },
  {
   "cell_type": "code",
   "execution_count": 7,
   "metadata": {},
   "outputs": [
    {
     "data": {
      "text/plain": [
       "[PhysicalDevice(name='/physical_device:CPU:0', device_type='CPU'),\n",
       " PhysicalDevice(name='/physical_device:GPU:0', device_type='GPU')]"
      ]
     },
     "execution_count": 7,
     "metadata": {},
     "output_type": "execute_result"
    }
   ],
   "source": [
    "tf.config.list_physical_devices()"
   ]
  },
  {
   "cell_type": "code",
   "execution_count": 8,
   "metadata": {},
   "outputs": [],
   "source": [
    "base_dir = 'dataset'\n",
    "train_dir = os.path.join(base_dir, 'train')\n",
    "test_dir = os.path.join(base_dir, 'test')"
   ]
  },
  {
   "cell_type": "code",
   "execution_count": 9,
   "metadata": {},
   "outputs": [
    {
     "name": "stdout",
     "output_type": "stream",
     "text": [
      "Found 1061 images belonging to 4 classes.\n",
      "Found 357 images belonging to 4 classes.\n"
     ]
    }
   ],
   "source": [
    "train_datagen = ImageDataGenerator(\n",
    "                rescale=1./255,\n",
    "                rotation_range=20,\n",
    "                horizontal_flip=True,\n",
    "                width_shift_range=0.2,\n",
    "                height_shift_range=0.2,\n",
    "                shear_range=0.2,\n",
    "                zoom_range=0.2,\n",
    "                vertical_flip=True,\n",
    "                fill_mode='nearest',\n",
    "                validation_split=0.3)\n",
    "\n",
    "validation_datagen = ImageDataGenerator(rescale = 1.0/255,\n",
    "                                        validation_split=0.4)\n",
    "\n",
    "train_generator = train_datagen.flow_from_directory(\n",
    "        train_dir,  \n",
    "        target_size=(150,150),\n",
    "        batch_size=5,\n",
    "        class_mode='categorical',\n",
    "        subset='training')\n",
    "\n",
    "validation_generator = validation_datagen.flow_from_directory(\n",
    "        test_dir, \n",
    "        target_size=(150,150), \n",
    "        batch_size=5,\n",
    "        class_mode='categorical',\n",
    "        subset='validation')"
   ]
  },
  {
   "cell_type": "code",
   "execution_count": 10,
   "metadata": {},
   "outputs": [
    {
     "name": "stdout",
     "output_type": "stream",
     "text": [
      "Model: \"sequential_1\"\n",
      "_________________________________________________________________\n",
      " Layer (type)                Output Shape              Param #   \n",
      "=================================================================\n",
      " conv2d_3 (Conv2D)           (None, 148, 148, 16)      448       \n",
      "                                                                 \n",
      " max_pooling2d_3 (MaxPooling  (None, 74, 74, 16)       0         \n",
      " 2D)                                                             \n",
      "                                                                 \n",
      " dropout_4 (Dropout)         (None, 74, 74, 16)        0         \n",
      "                                                                 \n",
      " conv2d_4 (Conv2D)           (None, 72, 72, 16)        2320      \n",
      "                                                                 \n",
      " max_pooling2d_4 (MaxPooling  (None, 36, 36, 16)       0         \n",
      " 2D)                                                             \n",
      "                                                                 \n",
      " dropout_5 (Dropout)         (None, 36, 36, 16)        0         \n",
      "                                                                 \n",
      " conv2d_5 (Conv2D)           (None, 34, 34, 32)        4640      \n",
      "                                                                 \n",
      " max_pooling2d_5 (MaxPooling  (None, 17, 17, 32)       0         \n",
      " 2D)                                                             \n",
      "                                                                 \n",
      " dropout_6 (Dropout)         (None, 17, 17, 32)        0         \n",
      "                                                                 \n",
      " flatten_1 (Flatten)         (None, 9248)              0         \n",
      "                                                                 \n",
      " dense_2 (Dense)             (None, 64)                591936    \n",
      "                                                                 \n",
      " dropout_7 (Dropout)         (None, 64)                0         \n",
      "                                                                 \n",
      " dense_3 (Dense)             (None, 4)                 260       \n",
      "                                                                 \n",
      "=================================================================\n",
      "Total params: 599,604\n",
      "Trainable params: 599,604\n",
      "Non-trainable params: 0\n",
      "_________________________________________________________________\n"
     ]
    }
   ],
   "source": [
    "model = tf.keras.models.Sequential([\n",
    "    tf.keras.layers.Conv2D(16, (3, 3), activation='relu', input_shape=(150, 150, 3)),\n",
    "    tf.keras.layers.MaxPooling2D(2, 2),\n",
    "    tf.keras.layers.Dropout(0.2),\n",
    "    tf.keras.layers.Conv2D(16, (3, 3), activation='relu'),\n",
    "    tf.keras.layers.MaxPooling2D(2, 2),\n",
    "    tf.keras.layers.Dropout(0.2),\n",
    "    tf.keras.layers.Conv2D(32, (3, 3), activation='relu'),\n",
    "    tf.keras.layers.MaxPooling2D(2, 2),\n",
    "    tf.keras.layers.Dropout(0.2),\n",
    "    tf.keras.layers.Flatten(),\n",
    "    tf.keras.layers.Dense(64, activation='relu'),\n",
    "    tf.keras.layers.Dropout(0.2),\n",
    "    ## Change Dense number to Total Class exist\n",
    "    tf.keras.layers.Dense(4, activation='softmax')\n",
    "])\n",
    "model.summary()"
   ]
  },
  {
   "cell_type": "code",
   "execution_count": 11,
   "metadata": {},
   "outputs": [
    {
     "name": "stdout",
     "output_type": "stream",
     "text": [
      "Epoch 1/10\n"
     ]
    },
    {
     "name": "stderr",
     "output_type": "stream",
     "text": [
      "2022-06-12 18:02:47.547811: W tensorflow/core/platform/profile_utils/cpu_utils.cc:128] Failed to get CPU frequency: 0 Hz\n",
      "2022-06-12 18:02:47.791523: I tensorflow/core/grappler/optimizers/custom_graph_optimizer_registry.cc:113] Plugin optimizer for device_type GPU is enabled.\n"
     ]
    },
    {
     "name": "stdout",
     "output_type": "stream",
     "text": [
      "213/213 [==============================] - ETA: 0s - loss: 1.0950 - accuracy: 0.4392"
     ]
    },
    {
     "name": "stderr",
     "output_type": "stream",
     "text": [
      "2022-06-12 18:03:12.409317: I tensorflow/core/grappler/optimizers/custom_graph_optimizer_registry.cc:113] Plugin optimizer for device_type GPU is enabled.\n"
     ]
    },
    {
     "name": "stdout",
     "output_type": "stream",
     "text": [
      "213/213 [==============================] - 31s 140ms/step - loss: 1.0950 - accuracy: 0.4392 - val_loss: 1.2563 - val_accuracy: 0.4706 - lr: 0.0010\n",
      "Epoch 2/10\n",
      "213/213 [==============================] - 29s 137ms/step - loss: 0.7143 - accuracy: 0.6664 - val_loss: 0.7857 - val_accuracy: 0.6415 - lr: 0.0010\n",
      "Epoch 3/10\n",
      "213/213 [==============================] - 30s 140ms/step - loss: 0.4499 - accuracy: 0.7917 - val_loss: 2.1088 - val_accuracy: 0.5602 - lr: 0.0010\n",
      "Epoch 4/10\n",
      "213/213 [==============================] - ETA: 0s - loss: 0.3929 - accuracy: 0.8303\n",
      "Epoch 4: ReduceLROnPlateau reducing learning rate to 0.0005000000237487257.\n",
      "213/213 [==============================] - 29s 138ms/step - loss: 0.3929 - accuracy: 0.8303 - val_loss: 3.4079 - val_accuracy: 0.5602 - lr: 0.0010\n",
      "Epoch 5/10\n",
      "213/213 [==============================] - 29s 134ms/step - loss: 0.1854 - accuracy: 0.9303 - val_loss: 4.5097 - val_accuracy: 0.5602 - lr: 5.0000e-04\n",
      "Epoch 6/10\n",
      "213/213 [==============================] - ETA: 0s - loss: 0.1694 - accuracy: 0.9246\n",
      "Epoch 6: ReduceLROnPlateau reducing learning rate to 0.0002500000118743628.\n",
      "213/213 [==============================] - 29s 134ms/step - loss: 0.1694 - accuracy: 0.9246 - val_loss: 4.0551 - val_accuracy: 0.5602 - lr: 5.0000e-04\n",
      "Epoch 7/10\n",
      "213/213 [==============================] - 29s 137ms/step - loss: 0.1282 - accuracy: 0.9510 - val_loss: 5.3030 - val_accuracy: 0.5602 - lr: 2.5000e-04\n",
      "Epoch 8/10\n",
      "213/213 [==============================] - ETA: 0s - loss: 0.1163 - accuracy: 0.9500\n",
      "Epoch 8: ReduceLROnPlateau reducing learning rate to 0.0001250000059371814.\n",
      "213/213 [==============================] - 29s 138ms/step - loss: 0.1163 - accuracy: 0.9500 - val_loss: 6.0209 - val_accuracy: 0.5602 - lr: 2.5000e-04\n",
      "Epoch 9/10\n",
      "213/213 [==============================] - 29s 137ms/step - loss: 0.1062 - accuracy: 0.9510 - val_loss: 5.7189 - val_accuracy: 0.5602 - lr: 1.2500e-04\n",
      "Epoch 10/10\n",
      "213/213 [==============================] - ETA: 0s - loss: 0.1009 - accuracy: 0.9557\n",
      "Epoch 10: ReduceLROnPlateau reducing learning rate to 6.25000029685907e-05.\n",
      "213/213 [==============================] - 29s 137ms/step - loss: 0.1009 - accuracy: 0.9557 - val_loss: 5.7898 - val_accuracy: 0.5602 - lr: 1.2500e-04\n"
     ]
    }
   ],
   "source": [
    "learning_rate_reduction = ReduceLROnPlateau(monitor='val_accuracy',\n",
    "                                            patience=2,\n",
    "                                            verbose=1,\n",
    "                                            factor=0.5,\n",
    "                                            min_lr=0.000003)\n",
    "                                            \n",
    "model.compile(loss='categorical_crossentropy',\n",
    "                optimizer='adam',\n",
    "                metrics=['accuracy'])\n",
    "\n",
    "history = model.fit(\n",
    "    train_generator,\n",
    "    epochs=10,\n",
    "    validation_data=validation_generator,\n",
    "    callbacks=[learning_rate_reduction])"
   ]
  },
  {
   "cell_type": "code",
   "execution_count": 12,
   "metadata": {},
   "outputs": [],
   "source": [
    "def eval_plot(history):\n",
    "    \n",
    "    plt.figure(figsize=(14, 5))\n",
    "\n",
    "    # Accuracy plot\n",
    "    plt.subplot(1, 2, 1)\n",
    "    acc = history.history['accuracy']\n",
    "    val_acc = history.history['val_accuracy']\n",
    "    epochs = range(len(acc))\n",
    "    acc_plot, = plt.plot(epochs, acc, 'r')\n",
    "    val_acc_plot, = plt.plot(epochs, val_acc, 'b')\n",
    "    plt.title('Training and Validation Accuracy')\n",
    "    plt.legend([acc_plot, val_acc_plot], ['Training Accuracy', 'Validation Accuracy'])\n",
    "\n",
    "    # Loss plot\n",
    "    plt.subplot(1, 2, 2)\n",
    "    loss = history.history['loss']\n",
    "    val_loss = history.history['val_loss']\n",
    "    epochs = range(len(loss))\n",
    "    loss_plot, = plt.plot(epochs, loss, 'r')\n",
    "    val_loss_plot, = plt.plot(epochs, val_loss, 'b')\n",
    "    plt.title('Training and Validation Loss')\n",
    "    plt.legend([loss_plot, val_loss_plot], ['Training Loss', 'Validation Loss'])\n",
    "\n",
    "def evaluate(model):\n",
    "    \n",
    "    validation_generator = train_datagen.flow_from_directory(\n",
    "            test_dir, \n",
    "            target_size=(150,150), \n",
    "            batch_size=10, \n",
    "            class_mode='categorical',\n",
    "            shuffle = False,\n",
    "            subset='validation')\n",
    "\n",
    "    batch_size = 10\n",
    "    num_of_test_samples = len(validation_generator.filenames)\n",
    "\n",
    "    Y_pred = model.predict_generator(validation_generator, num_of_test_samples // batch_size+1)\n",
    "    y_pred = np.argmax(Y_pred, axis=1)\n",
    "\n",
    "    print('\\nConfusion Matrix\\n')\n",
    "    print(confusion_matrix(validation_generator.classes, y_pred))\n",
    "\n",
    "\n",
    "    print('\\n\\nClassification Report\\n')\n",
    "    target_names = ['GINA', 'MATAHARI', 'SIRAT','ULI']\n",
    "    print(classification_report(validation_generator.classes, y_pred, target_names=target_names))\n",
    "\n",
    "def predict_image(image_upload, model = model):\n",
    "    im = image_upload\n",
    "    im_array = np.asarray(im)\n",
    "    im_array = im_array*(1/225)\n",
    "    im_input = tf.reshape(im_array, shape = [1, 150, 150, 3])\n",
    "\n",
    "    predict_proba = sorted(model.predict(im_input)[0])[2]\n",
    "    predict_class = np.argmax(model.predict(im_input))\n",
    "\n",
    "    if predict_class == 0:\n",
    "        predict_label = 'Paper'\n",
    "    elif predict_class == 1:\n",
    "        predict_label = 'Rock'\n",
    "    else:\n",
    "        predict_label = 'Scissor'\n",
    "\n",
    "    print('\\n')\n",
    "    plt.show()\n",
    "    print(\"\\nImage prediction result: \", predict_label)\n",
    "    print(\"Probability: \", round(predict_proba*100,2), \"%\")\n",
    "    print('\\n')"
   ]
  },
  {
   "cell_type": "code",
   "execution_count": 13,
   "metadata": {},
   "outputs": [
    {
     "name": "stdout",
     "output_type": "stream",
     "text": [
      "Found 268 images belonging to 4 classes.\n"
     ]
    },
    {
     "name": "stderr",
     "output_type": "stream",
     "text": [
      "/var/folders/68/ws912nt53sj93j_v0j_wm41r0000gn/T/ipykernel_12719/3322511867.py:38: UserWarning: `Model.predict_generator` is deprecated and will be removed in a future version. Please use `Model.predict`, which supports generators.\n",
      "  Y_pred = model.predict_generator(validation_generator, num_of_test_samples // batch_size+1)\n",
      "2022-06-12 18:07:41.371407: I tensorflow/core/grappler/optimizers/custom_graph_optimizer_registry.cc:113] Plugin optimizer for device_type GPU is enabled.\n"
     ]
    },
    {
     "name": "stdout",
     "output_type": "stream",
     "text": [
      "\n",
      "Confusion Matrix\n",
      "\n",
      "[[22  0 21  0]\n",
      " [ 0  0 75  0]\n",
      " [ 0  0 75  0]\n",
      " [ 0  0  0 75]]\n",
      "\n",
      "\n",
      "Classification Report\n",
      "\n",
      "              precision    recall  f1-score   support\n",
      "\n",
      "        GINA       1.00      0.51      0.68        43\n",
      "    MATAHARI       0.00      0.00      0.00        75\n",
      "       SIRAT       0.44      1.00      0.61        75\n",
      "         ULI       1.00      1.00      1.00        75\n",
      "\n",
      "    accuracy                           0.64       268\n",
      "   macro avg       0.61      0.63      0.57       268\n",
      "weighted avg       0.56      0.64      0.56       268\n",
      "\n"
     ]
    },
    {
     "name": "stderr",
     "output_type": "stream",
     "text": [
      "/Users/harysetiawan/Documents/College Project/PCD/FinalProject/venv/lib/python3.9/site-packages/sklearn/metrics/_classification.py:1327: UndefinedMetricWarning: Precision and F-score are ill-defined and being set to 0.0 in labels with no predicted samples. Use `zero_division` parameter to control this behavior.\n",
      "  _warn_prf(average, modifier, msg_start, len(result))\n",
      "/Users/harysetiawan/Documents/College Project/PCD/FinalProject/venv/lib/python3.9/site-packages/sklearn/metrics/_classification.py:1327: UndefinedMetricWarning: Precision and F-score are ill-defined and being set to 0.0 in labels with no predicted samples. Use `zero_division` parameter to control this behavior.\n",
      "  _warn_prf(average, modifier, msg_start, len(result))\n",
      "/Users/harysetiawan/Documents/College Project/PCD/FinalProject/venv/lib/python3.9/site-packages/sklearn/metrics/_classification.py:1327: UndefinedMetricWarning: Precision and F-score are ill-defined and being set to 0.0 in labels with no predicted samples. Use `zero_division` parameter to control this behavior.\n",
      "  _warn_prf(average, modifier, msg_start, len(result))\n"
     ]
    },
    {
     "data": {
      "image/png": "[encoded data removed]",
      "text/plain": [
       "<Figure size 1008x360 with 2 Axes>"
      ]
     },
     "metadata": {
      "needs_background": "light"
     },
     "output_type": "display_data"
    }
   ],
   "source": [
    "eval_plot(history)\n",
    "evaluate(model)\n"
   ]
  }
 ],
 "metadata": {
  "kernelspec": {
   "display_name": "Python 3.9.12 ('venv': venv)",
   "language": "python",
   "name": "python3"
  },
  "language_info": {
   "codemirror_mode": {
    "name": "ipython",
    "version": 3
   },
   "file_extension": ".py",
   "mimetype": "text/x-python",
   "name": "python",
   "nbconvert_exporter": "python",
   "pygments_lexer": "ipython3",
   "version": "3.9.12"
  },
  "orig_nbformat": 4,
  "vscode": {
   "interpreter": {
    "hash": "d2bece30c987821ee4a04d8c27dbd412385bc7790b4b5e1e5db4f2caf599d87c"
   }
  }
 },
 "nbformat": 4,
 "nbformat_minor": 2
}
