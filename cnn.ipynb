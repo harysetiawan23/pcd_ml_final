{
 "cells": [
  {
   "cell_type": "code",
   "execution_count": 11,
   "metadata": {},
   "outputs": [],
   "source": [
    "import tensorflow as tf\n",
    "import zipfile\n",
    "import os\n",
    "import matplotlib.pyplot as plt\n",
    "import numpy as np\n",
    "import matplotlib.image as mpimg\n",
    "from keras.preprocessing.image import ImageDataGenerator\n",
    "from sklearn.metrics import classification_report, confusion_matrix\n",
    "from keras.preprocessing import image\n",
    "from keras.callbacks import ReduceLROnPlateau"
   ]
  },
  {
   "cell_type": "code",
   "execution_count": 12,
   "metadata": {},
   "outputs": [
    {
     "data": {
      "text/plain": [
       "[PhysicalDevice(name='/physical_device:CPU:0', device_type='CPU'),\n",
       " PhysicalDevice(name='/physical_device:GPU:0', device_type='GPU')]"
      ]
     },
     "execution_count": 12,
     "metadata": {},
     "output_type": "execute_result"
    }
   ],
   "source": [
    "tf.config.list_physical_devices()"
   ]
  },
  {
   "cell_type": "code",
   "execution_count": 13,
   "metadata": {},
   "outputs": [],
   "source": [
    "base_dir = 'dataset'\n",
    "train_dir = os.path.join(base_dir, 'train')\n",
    "test_dir = os.path.join(base_dir, 'test')"
   ]
  },
  {
   "cell_type": "code",
   "execution_count": 14,
   "metadata": {},
   "outputs": [
    {
     "name": "stdout",
     "output_type": "stream",
     "text": [
      "Found 1313 images belonging to 4 classes.\n",
      "Found 228 images belonging to 4 classes.\n"
     ]
    }
   ],
   "source": [
    "train_datagen = ImageDataGenerator(\n",
    "                rescale=1./255,\n",
    "                rotation_range=20,\n",
    "                horizontal_flip=True,\n",
    "                width_shift_range=0.2,\n",
    "                height_shift_range=0.2,\n",
    "                shear_range=0.2,\n",
    "                zoom_range=0.2,\n",
    "                vertical_flip=True,\n",
    "                fill_mode='nearest',\n",
    "                validation_split=0.3)\n",
    "\n",
    "validation_datagen = ImageDataGenerator(rescale = 1.0/255,\n",
    "                                        validation_split=0.4)\n",
    "\n",
    "train_generator = train_datagen.flow_from_directory(\n",
    "        train_dir,  \n",
    "        target_size=(256,256),\n",
    "        batch_size=5,\n",
    "        class_mode='categorical',\n",
    "        subset='training')\n",
    "\n",
    "validation_generator = validation_datagen.flow_from_directory(\n",
    "        test_dir, \n",
    "        target_size=(256,256), \n",
    "        batch_size=5,\n",
    "        class_mode='categorical',\n",
    "        subset='validation')"
   ]
  },
  {
   "cell_type": "code",
   "execution_count": 15,
   "metadata": {},
   "outputs": [
    {
     "name": "stdout",
     "output_type": "stream",
     "text": [
      "Model: \"sequential_1\"\n",
      "_________________________________________________________________\n",
      " Layer (type)                Output Shape              Param #   \n",
      "=================================================================\n",
      " conv2d_3 (Conv2D)           (None, 254, 254, 16)      448       \n",
      "                                                                 \n",
      " max_pooling2d_3 (MaxPooling  (None, 127, 127, 16)     0         \n",
      " 2D)                                                             \n",
      "                                                                 \n",
      " dropout_4 (Dropout)         (None, 127, 127, 16)      0         \n",
      "                                                                 \n",
      " conv2d_4 (Conv2D)           (None, 125, 125, 16)      2320      \n",
      "                                                                 \n",
      " max_pooling2d_4 (MaxPooling  (None, 62, 62, 16)       0         \n",
      " 2D)                                                             \n",
      "                                                                 \n",
      " dropout_5 (Dropout)         (None, 62, 62, 16)        0         \n",
      "                                                                 \n",
      " conv2d_5 (Conv2D)           (None, 60, 60, 32)        4640      \n",
      "                                                                 \n",
      " max_pooling2d_5 (MaxPooling  (None, 30, 30, 32)       0         \n",
      " 2D)                                                             \n",
      "                                                                 \n",
      " dropout_6 (Dropout)         (None, 30, 30, 32)        0         \n",
      "                                                                 \n",
      " flatten_1 (Flatten)         (None, 28800)             0         \n",
      "                                                                 \n",
      " dense_2 (Dense)             (None, 64)                1843264   \n",
      "                                                                 \n",
      " dropout_7 (Dropout)         (None, 64)                0         \n",
      "                                                                 \n",
      " dense_3 (Dense)             (None, 4)                 260       \n",
      "                                                                 \n",
      "=================================================================\n",
      "Total params: 1,850,932\n",
      "Trainable params: 1,850,932\n",
      "Non-trainable params: 0\n",
      "_________________________________________________________________\n"
     ]
    }
   ],
   "source": [
    "model = tf.keras.models.Sequential([\n",
    "    tf.keras.layers.Conv2D(16, (3, 3), activation='relu', input_shape=(256, 256, 3)),\n",
    "    tf.keras.layers.MaxPooling2D(2, 2),\n",
    "    tf.keras.layers.Dropout(0.2),\n",
    "    tf.keras.layers.Conv2D(16, (3, 3), activation='relu'),\n",
    "    tf.keras.layers.MaxPooling2D(2, 2),\n",
    "    tf.keras.layers.Dropout(0.2),\n",
    "    tf.keras.layers.Conv2D(32, (3, 3), activation='relu'),\n",
    "    tf.keras.layers.MaxPooling2D(2, 2),\n",
    "    tf.keras.layers.Dropout(0.2),\n",
    "    tf.keras.layers.Flatten(),\n",
    "    tf.keras.layers.Dense(64, activation='relu'),\n",
    "    tf.keras.layers.Dropout(0.2),\n",
    "    ## Change Dense number to Total Class exist\n",
    "    tf.keras.layers.Dense(4, activation='softmax')\n",
    "])\n",
    "model.summary()"
   ]
  },
  {
   "cell_type": "code",
   "execution_count": 16,
   "metadata": {},
   "outputs": [
    {
     "name": "stdout",
     "output_type": "stream",
     "text": [
      "Epoch 1/50\n"
     ]
    },
    {
     "name": "stderr",
     "output_type": "stream",
     "text": [
      "2022-06-21 21:04:16.834047: I tensorflow/core/grappler/optimizers/custom_graph_optimizer_registry.cc:113] Plugin optimizer for device_type GPU is enabled.\n"
     ]
    },
    {
     "name": "stdout",
     "output_type": "stream",
     "text": [
      "263/263 [==============================] - ETA: 0s - loss: 1.0753 - accuracy: 0.5225"
     ]
    },
    {
     "name": "stderr",
     "output_type": "stream",
     "text": [
      "2022-06-21 21:04:51.009225: I tensorflow/core/grappler/optimizers/custom_graph_optimizer_registry.cc:113] Plugin optimizer for device_type GPU is enabled.\n"
     ]
    },
    {
     "name": "stdout",
     "output_type": "stream",
     "text": [
      "263/263 [==============================] - 39s 147ms/step - loss: 1.0753 - accuracy: 0.5225 - val_loss: 0.8344 - val_accuracy: 0.5877 - lr: 0.0010\n",
      "Epoch 2/50\n",
      "263/263 [==============================] - 39s 147ms/step - loss: 0.4378 - accuracy: 0.8035 - val_loss: 0.6812 - val_accuracy: 0.6579 - lr: 0.0010\n",
      "Epoch 3/50\n",
      "263/263 [==============================] - 38s 146ms/step - loss: 0.2461 - accuracy: 0.8987 - val_loss: 0.3274 - val_accuracy: 0.7763 - lr: 0.0010\n",
      "Epoch 4/50\n",
      "263/263 [==============================] - 566s 2s/step - loss: 0.9171 - accuracy: 0.6055 - val_loss: 1.1887 - val_accuracy: 0.5000 - lr: 0.0010\n",
      "Epoch 5/50\n",
      "263/263 [==============================] - ETA: 0s - loss: 0.7741 - accuracy: 0.6794\n",
      "Epoch 5: ReduceLROnPlateau reducing learning rate to 0.0005000000237487257.\n",
      "263/263 [==============================] - 39s 146ms/step - loss: 0.7741 - accuracy: 0.6794 - val_loss: 0.5666 - val_accuracy: 0.6579 - lr: 0.0010\n",
      "Epoch 6/50\n",
      "263/263 [==============================] - 39s 146ms/step - loss: 0.2966 - accuracy: 0.8880 - val_loss: 0.7500 - val_accuracy: 0.6579 - lr: 5.0000e-04\n",
      "Epoch 7/50\n",
      "263/263 [==============================] - ETA: 0s - loss: 0.1885 - accuracy: 0.9101\n",
      "Epoch 7: ReduceLROnPlateau reducing learning rate to 0.0002500000118743628.\n",
      "263/263 [==============================] - 39s 147ms/step - loss: 0.1885 - accuracy: 0.9101 - val_loss: 0.3229 - val_accuracy: 0.7719 - lr: 5.0000e-04\n",
      "Epoch 8/50\n",
      "263/263 [==============================] - 38s 146ms/step - loss: 0.1200 - accuracy: 0.9452 - val_loss: 0.5439 - val_accuracy: 0.6842 - lr: 2.5000e-04\n",
      "Epoch 9/50\n",
      "263/263 [==============================] - 38s 146ms/step - loss: 0.1077 - accuracy: 0.9520 - val_loss: 0.3809 - val_accuracy: 0.8070 - lr: 2.5000e-04\n",
      "Epoch 10/50\n",
      "263/263 [==============================] - 38s 146ms/step - loss: 0.1103 - accuracy: 0.9513 - val_loss: 0.6625 - val_accuracy: 0.6667 - lr: 2.5000e-04\n",
      "Epoch 11/50\n",
      "263/263 [==============================] - ETA: 0s - loss: 0.1217 - accuracy: 0.9497\n",
      "Epoch 11: ReduceLROnPlateau reducing learning rate to 0.0001250000059371814.\n",
      "263/263 [==============================] - 39s 146ms/step - loss: 0.1217 - accuracy: 0.9497 - val_loss: 0.8076 - val_accuracy: 0.6886 - lr: 2.5000e-04\n",
      "Epoch 12/50\n",
      "263/263 [==============================] - 39s 146ms/step - loss: 0.0982 - accuracy: 0.9528 - val_loss: 0.2947 - val_accuracy: 0.8070 - lr: 1.2500e-04\n",
      "Epoch 13/50\n",
      "263/263 [==============================] - ETA: 0s - loss: 0.0877 - accuracy: 0.9596\n",
      "Epoch 13: ReduceLROnPlateau reducing learning rate to 6.25000029685907e-05.\n",
      "263/263 [==============================] - 39s 146ms/step - loss: 0.0877 - accuracy: 0.9596 - val_loss: 0.4035 - val_accuracy: 0.7193 - lr: 1.2500e-04\n",
      "Epoch 14/50\n",
      "263/263 [==============================] - 39s 147ms/step - loss: 0.0705 - accuracy: 0.9711 - val_loss: 0.2824 - val_accuracy: 0.8289 - lr: 6.2500e-05\n",
      "Epoch 15/50\n",
      "263/263 [==============================] - 38s 146ms/step - loss: 0.0687 - accuracy: 0.9764 - val_loss: 0.3244 - val_accuracy: 0.7763 - lr: 6.2500e-05\n",
      "Epoch 16/50\n",
      "263/263 [==============================] - ETA: 0s - loss: 0.0651 - accuracy: 0.9794\n",
      "Epoch 16: ReduceLROnPlateau reducing learning rate to 3.125000148429535e-05.\n",
      "263/263 [==============================] - 38s 146ms/step - loss: 0.0651 - accuracy: 0.9794 - val_loss: 0.3124 - val_accuracy: 0.7763 - lr: 6.2500e-05\n",
      "Epoch 17/50\n",
      "263/263 [==============================] - 39s 146ms/step - loss: 0.0606 - accuracy: 0.9817 - val_loss: 0.3676 - val_accuracy: 0.7456 - lr: 3.1250e-05\n",
      "Epoch 18/50\n",
      "263/263 [==============================] - ETA: 0s - loss: 0.0590 - accuracy: 0.9749\n",
      "Epoch 18: ReduceLROnPlateau reducing learning rate to 1.5625000742147677e-05.\n",
      "263/263 [==============================] - 39s 147ms/step - loss: 0.0590 - accuracy: 0.9749 - val_loss: 0.5117 - val_accuracy: 0.6711 - lr: 3.1250e-05\n",
      "Epoch 19/50\n",
      "263/263 [==============================] - 39s 146ms/step - loss: 0.0612 - accuracy: 0.9787 - val_loss: 0.4208 - val_accuracy: 0.7237 - lr: 1.5625e-05\n",
      "Epoch 20/50\n",
      "263/263 [==============================] - ETA: 0s - loss: 0.0562 - accuracy: 0.9787\n",
      "Epoch 20: ReduceLROnPlateau reducing learning rate to 7.812500371073838e-06.\n",
      "263/263 [==============================] - 39s 147ms/step - loss: 0.0562 - accuracy: 0.9787 - val_loss: 0.3626 - val_accuracy: 0.7675 - lr: 1.5625e-05\n",
      "Epoch 21/50\n",
      "263/263 [==============================] - 39s 146ms/step - loss: 0.0524 - accuracy: 0.9825 - val_loss: 0.3509 - val_accuracy: 0.7719 - lr: 7.8125e-06\n",
      "Epoch 22/50\n",
      "263/263 [==============================] - ETA: 0s - loss: 0.0541 - accuracy: 0.9810\n",
      "Epoch 22: ReduceLROnPlateau reducing learning rate to 3.906250185536919e-06.\n",
      "263/263 [==============================] - 39s 146ms/step - loss: 0.0541 - accuracy: 0.9810 - val_loss: 0.3431 - val_accuracy: 0.7763 - lr: 7.8125e-06\n",
      "Epoch 23/50\n",
      "263/263 [==============================] - 39s 147ms/step - loss: 0.0592 - accuracy: 0.9787 - val_loss: 0.3827 - val_accuracy: 0.7412 - lr: 3.9063e-06\n",
      "Epoch 24/50\n",
      "263/263 [==============================] - ETA: 0s - loss: 0.0633 - accuracy: 0.9764\n",
      "Epoch 24: ReduceLROnPlateau reducing learning rate to 3e-06.\n",
      "263/263 [==============================] - 38s 146ms/step - loss: 0.0633 - accuracy: 0.9764 - val_loss: 0.4057 - val_accuracy: 0.7281 - lr: 3.9063e-06\n",
      "Epoch 25/50\n",
      "263/263 [==============================] - 39s 146ms/step - loss: 0.0601 - accuracy: 0.9756 - val_loss: 0.3646 - val_accuracy: 0.7632 - lr: 3.0000e-06\n",
      "Epoch 26/50\n",
      "263/263 [==============================] - 38s 146ms/step - loss: 0.0538 - accuracy: 0.9802 - val_loss: 0.3794 - val_accuracy: 0.7500 - lr: 3.0000e-06\n",
      "Epoch 27/50\n",
      "263/263 [==============================] - 39s 147ms/step - loss: 0.0573 - accuracy: 0.9779 - val_loss: 0.3760 - val_accuracy: 0.7544 - lr: 3.0000e-06\n",
      "Epoch 28/50\n",
      "263/263 [==============================] - 39s 147ms/step - loss: 0.0495 - accuracy: 0.9832 - val_loss: 0.3871 - val_accuracy: 0.7412 - lr: 3.0000e-06\n",
      "Epoch 29/50\n",
      "263/263 [==============================] - 449s 2s/step - loss: 0.0530 - accuracy: 0.9825 - val_loss: 0.3767 - val_accuracy: 0.7544 - lr: 3.0000e-06\n",
      "Epoch 30/50\n",
      "263/263 [==============================] - 38s 146ms/step - loss: 0.0593 - accuracy: 0.9749 - val_loss: 0.3661 - val_accuracy: 0.7588 - lr: 3.0000e-06\n",
      "Epoch 31/50\n",
      "263/263 [==============================] - 39s 146ms/step - loss: 0.0482 - accuracy: 0.9855 - val_loss: 0.3753 - val_accuracy: 0.7544 - lr: 3.0000e-06\n",
      "Epoch 32/50\n",
      "263/263 [==============================] - 39s 146ms/step - loss: 0.0518 - accuracy: 0.9832 - val_loss: 0.3579 - val_accuracy: 0.7675 - lr: 3.0000e-06\n",
      "Epoch 33/50\n",
      "263/263 [==============================] - 39s 147ms/step - loss: 0.0526 - accuracy: 0.9817 - val_loss: 0.3838 - val_accuracy: 0.7456 - lr: 3.0000e-06\n",
      "Epoch 34/50\n",
      "263/263 [==============================] - 38s 146ms/step - loss: 0.0538 - accuracy: 0.9802 - val_loss: 0.3822 - val_accuracy: 0.7412 - lr: 3.0000e-06\n",
      "Epoch 35/50\n",
      "263/263 [==============================] - 39s 146ms/step - loss: 0.0543 - accuracy: 0.9794 - val_loss: 0.3690 - val_accuracy: 0.7588 - lr: 3.0000e-06\n",
      "Epoch 36/50\n",
      "263/263 [==============================] - 39s 146ms/step - loss: 0.0540 - accuracy: 0.9825 - val_loss: 0.4062 - val_accuracy: 0.7412 - lr: 3.0000e-06\n",
      "Epoch 37/50\n",
      "263/263 [==============================] - 39s 147ms/step - loss: 0.0526 - accuracy: 0.9810 - val_loss: 0.3785 - val_accuracy: 0.7500 - lr: 3.0000e-06\n",
      "Epoch 38/50\n",
      "263/263 [==============================] - 39s 147ms/step - loss: 0.0485 - accuracy: 0.9825 - val_loss: 0.3685 - val_accuracy: 0.7632 - lr: 3.0000e-06\n",
      "Epoch 39/50\n",
      "263/263 [==============================] - 38s 146ms/step - loss: 0.0467 - accuracy: 0.9863 - val_loss: 0.3862 - val_accuracy: 0.7456 - lr: 3.0000e-06\n",
      "Epoch 40/50\n",
      "263/263 [==============================] - 39s 146ms/step - loss: 0.0529 - accuracy: 0.9817 - val_loss: 0.3900 - val_accuracy: 0.7456 - lr: 3.0000e-06\n",
      "Epoch 41/50\n",
      "263/263 [==============================] - 39s 146ms/step - loss: 0.0545 - accuracy: 0.9787 - val_loss: 0.3737 - val_accuracy: 0.7588 - lr: 3.0000e-06\n",
      "Epoch 42/50\n",
      "263/263 [==============================] - 39s 147ms/step - loss: 0.0479 - accuracy: 0.9848 - val_loss: 0.3589 - val_accuracy: 0.7939 - lr: 3.0000e-06\n",
      "Epoch 43/50\n",
      "263/263 [==============================] - 39s 146ms/step - loss: 0.0565 - accuracy: 0.9817 - val_loss: 0.4191 - val_accuracy: 0.7412 - lr: 3.0000e-06\n",
      "Epoch 44/50\n",
      "263/263 [==============================] - 39s 146ms/step - loss: 0.0485 - accuracy: 0.9817 - val_loss: 0.3776 - val_accuracy: 0.7588 - lr: 3.0000e-06\n",
      "Epoch 45/50\n",
      "263/263 [==============================] - 39s 146ms/step - loss: 0.0564 - accuracy: 0.9802 - val_loss: 0.4093 - val_accuracy: 0.7368 - lr: 3.0000e-06\n",
      "Epoch 46/50\n",
      "263/263 [==============================] - 39s 147ms/step - loss: 0.0518 - accuracy: 0.9848 - val_loss: 0.3533 - val_accuracy: 0.7895 - lr: 3.0000e-06\n",
      "Epoch 47/50\n",
      "263/263 [==============================] - 38s 146ms/step - loss: 0.0536 - accuracy: 0.9855 - val_loss: 0.3765 - val_accuracy: 0.7632 - lr: 3.0000e-06\n",
      "Epoch 48/50\n",
      "263/263 [==============================] - 39s 147ms/step - loss: 0.0551 - accuracy: 0.9817 - val_loss: 0.3601 - val_accuracy: 0.7719 - lr: 3.0000e-06\n",
      "Epoch 49/50\n",
      "263/263 [==============================] - 38s 146ms/step - loss: 0.0522 - accuracy: 0.9794 - val_loss: 0.4161 - val_accuracy: 0.7412 - lr: 3.0000e-06\n",
      "Epoch 50/50\n",
      "263/263 [==============================] - 38s 146ms/step - loss: 0.0484 - accuracy: 0.9855 - val_loss: 0.3805 - val_accuracy: 0.7632 - lr: 3.0000e-06\n"
     ]
    }
   ],
   "source": [
    "learning_rate_reduction = ReduceLROnPlateau(monitor='val_accuracy',\n",
    "                                            patience=2,\n",
    "                                            verbose=1,\n",
    "                                            factor=0.5,\n",
    "                                            min_lr=0.000003)\n",
    "                                            \n",
    "model.compile(loss='categorical_crossentropy',\n",
    "                optimizer='adam',\n",
    "                metrics=['accuracy'])\n",
    "\n",
    "history = model.fit(\n",
    "    train_generator,\n",
    "    epochs=50,\n",
    "    validation_data=validation_generator,\n",
    "    callbacks=[learning_rate_reduction])"
   ]
  },
  {
   "cell_type": "code",
   "execution_count": 17,
   "metadata": {},
   "outputs": [],
   "source": [
    "def eval_plot(history):\n",
    "    \n",
    "    plt.figure(figsize=(14, 5))\n",
    "\n",
    "    # Accuracy plot\n",
    "    plt.subplot(1, 2, 1)\n",
    "    acc = history.history['accuracy']\n",
    "    val_acc = history.history['val_accuracy']\n",
    "    epochs = range(len(acc))\n",
    "    acc_plot, = plt.plot(epochs, acc, 'r')\n",
    "    val_acc_plot, = plt.plot(epochs, val_acc, 'b')\n",
    "    plt.title('Training and Validation Accuracy')\n",
    "    plt.legend([acc_plot, val_acc_plot], ['Training Accuracy', 'Validation Accuracy'])\n",
    "\n",
    "    # Loss plot\n",
    "    plt.subplot(1, 2, 2)\n",
    "    loss = history.history['loss']\n",
    "    val_loss = history.history['val_loss']\n",
    "    epochs = range(len(loss))\n",
    "    loss_plot, = plt.plot(epochs, loss, 'r')\n",
    "    val_loss_plot, = plt.plot(epochs, val_loss, 'b')\n",
    "    plt.title('Training and Validation Loss')\n",
    "    plt.legend([loss_plot, val_loss_plot], ['Training Loss', 'Validation Loss'])\n",
    "\n",
    "def evaluate(model):\n",
    "    \n",
    "    validation_generator = train_datagen.flow_from_directory(\n",
    "            test_dir, \n",
    "            target_size=(256,256), \n",
    "            batch_size=10, \n",
    "            class_mode='categorical',\n",
    "            shuffle = False,\n",
    "            subset='validation')\n",
    "\n",
    "    batch_size = 10\n",
    "    num_of_test_samples = len(validation_generator.filenames)\n",
    "\n",
    "    Y_pred = model.predict_generator(validation_generator, num_of_test_samples // batch_size+1)\n",
    "    y_pred = np.argmax(Y_pred, axis=1)\n",
    "\n",
    "    print('\\nConfusion Matrix\\n')\n",
    "    print(confusion_matrix(validation_generator.classes, y_pred))\n",
    "\n",
    "\n",
    "    print('\\n\\nClassification Report\\n')\n",
    "    target_names = ['GINA', 'MATAHARI', 'SIRAT','ULI']\n",
    "    print(classification_report(validation_generator.classes, y_pred, target_names=target_names))\n",
    "\n",
    "def predict_image(image_upload, model = model):\n",
    "    im = image_upload\n",
    "    im_array = np.asarray(im)\n",
    "    im_array = im_array*(1/225)\n",
    "    im_input = tf.reshape(im_array, shape = [1, 256, 256, 3])\n",
    "\n",
    "    predict_proba = sorted(model.predict(im_input)[0])[2]\n",
    "    predict_class = np.argmax(model.predict(im_input))\n",
    "\n",
    "    print('\\n')\n",
    "    plt.show()\n",
    "    print(\"\\nImage prediction result: \", predict_label)\n",
    "    print(\"Probability: \", round(predict_proba*100,2), \"%\")\n",
    "    print('\\n')"
   ]
  },
  {
   "cell_type": "code",
   "execution_count": 18,
   "metadata": {},
   "outputs": [
    {
     "name": "stdout",
     "output_type": "stream",
     "text": [
      "Found 172 images belonging to 4 classes.\n"
     ]
    },
    {
     "name": "stderr",
     "output_type": "stream",
     "text": [
      "/var/folders/68/ws912nt53sj93j_v0j_wm41r0000gn/T/ipykernel_5162/711828489.py:38: UserWarning: `Model.predict_generator` is deprecated and will be removed in a future version. Please use `Model.predict`, which supports generators.\n",
      "  Y_pred = model.predict_generator(validation_generator, num_of_test_samples // batch_size+1)\n",
      "2022-06-21 21:52:01.937817: I tensorflow/core/grappler/optimizers/custom_graph_optimizer_registry.cc:113] Plugin optimizer for device_type GPU is enabled.\n"
     ]
    },
    {
     "name": "stdout",
     "output_type": "stream",
     "text": [
      "\n",
      "Confusion Matrix\n",
      "\n",
      "[[36  0  0  7]\n",
      " [31 12  0  0]\n",
      " [ 0  0 43  0]\n",
      " [ 0  0  0 43]]\n",
      "\n",
      "\n",
      "Classification Report\n",
      "\n",
      "              precision    recall  f1-score   support\n",
      "\n",
      "        GINA       0.54      0.84      0.65        43\n",
      "    MATAHARI       1.00      0.28      0.44        43\n",
      "       SIRAT       1.00      1.00      1.00        43\n",
      "         ULI       0.86      1.00      0.92        43\n",
      "\n",
      "    accuracy                           0.78       172\n",
      "   macro avg       0.85      0.78      0.75       172\n",
      "weighted avg       0.85      0.78      0.75       172\n",
      "\n"
     ]
    },
    {
     "data": {
      "image/png": "[encoded data removed]",
      "text/plain": [
       "<Figure size 1008x360 with 2 Axes>"
      ]
     },
     "metadata": {
      "needs_background": "light"
     },
     "output_type": "display_data"
    }
   ],
   "source": [
    "eval_plot(history)\n",
    "evaluate(model)\n"
   ]
  }
 ],
 "metadata": {
  "kernelspec": {
   "display_name": "Python 3.9.12 ('venv': venv)",
   "language": "python",
   "name": "python3"
  },
  "language_info": {
   "codemirror_mode": {
    "name": "ipython",
    "version": 3
   },
   "file_extension": ".py",
   "mimetype": "text/x-python",
   "name": "python",
   "nbconvert_exporter": "python",
   "pygments_lexer": "ipython3",
   "version": "3.9.12"
  },
  "orig_nbformat": 4,
  "vscode": {
   "interpreter": {
    "hash": "d2bece30c987821ee4a04d8c27dbd412385bc7790b4b5e1e5db4f2caf599d87c"
   }
  }
 },
 "nbformat": 4,
 "nbformat_minor": 2
}
