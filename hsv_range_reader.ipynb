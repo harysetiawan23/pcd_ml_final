{
 "cells": [
  {
   "cell_type": "code",
   "execution_count": 1,
   "metadata": {},
   "outputs": [
    {
     "name": "stdout",
     "output_type": "stream",
     "text": [
      "[[[176  70 222]]]\n"
     ]
    }
   ],
   "source": [
    "import numpy as np\n",
    "import cv2 as cv\n",
    "\n",
    "\n",
    "green = np.uint8([[[222, 161, 169]]])\n",
    "hsv_green = cv.cvtColor(green,cv.COLOR_RGB2HSV)\n",
    "print(hsv_green)"
   ]
  },
  {
   "cell_type": "code",
   "execution_count": 3,
   "metadata": {},
   "outputs": [
    {
     "name": "stdout",
     "output_type": "stream",
     "text": [
      "(hMin = 0 , sMin = -1, vMin = 0), (hMax = 179 , sMax = 255, vMax = 255)\n",
      "(hMin = 26 , sMin = -1, vMin = 0), (hMax = 179 , sMax = 255, vMax = 255)\n",
      "(hMin = 0 , sMin = -1, vMin = 0), (hMax = 179 , sMax = 255, vMax = 255)\n",
      "(hMin = 0 , sMin = -1, vMin = 0), (hMax = 105 , sMax = 255, vMax = 255)\n",
      "(hMin = 0 , sMin = -1, vMin = 0), (hMax = 60 , sMax = 255, vMax = 255)\n",
      "(hMin = 0 , sMin = -1, vMin = 0), (hMax = 68 , sMax = 255, vMax = 255)\n",
      "(hMin = 0 , sMin = -1, vMin = 0), (hMax = 80 , sMax = 255, vMax = 255)\n",
      "(hMin = 0 , sMin = -1, vMin = 0), (hMax = 86 , sMax = 255, vMax = 255)\n",
      "(hMin = 0 , sMin = -1, vMin = 0), (hMax = 79 , sMax = 255, vMax = 255)\n",
      "(hMin = 0 , sMin = -1, vMin = 0), (hMax = 83 , sMax = 255, vMax = 255)\n",
      "(hMin = 0 , sMin = -1, vMin = 0), (hMax = 81 , sMax = 255, vMax = 255)\n",
      "(hMin = 0 , sMin = -1, vMin = 0), (hMax = 76 , sMax = 255, vMax = 255)\n",
      "(hMin = 0 , sMin = -1, vMin = 0), (hMax = 80 , sMax = 255, vMax = 255)\n",
      "(hMin = 0 , sMin = -1, vMin = 0), (hMax = 80 , sMax = 89, vMax = 255)\n",
      "(hMin = 0 , sMin = -1, vMin = 0), (hMax = 80 , sMax = 89, vMax = 10)\n",
      "(hMin = 0 , sMin = -1, vMin = 0), (hMax = 80 , sMax = 89, vMax = 65)\n",
      "(hMin = 0 , sMin = -1, vMin = 0), (hMax = 80 , sMax = 89, vMax = 107)\n",
      "(hMin = 0 , sMin = -1, vMin = 0), (hMax = 80 , sMax = 89, vMax = 153)\n",
      "(hMin = 0 , sMin = -1, vMin = 0), (hMax = 80 , sMax = 89, vMax = 214)\n",
      "(hMin = 0 , sMin = -1, vMin = 0), (hMax = 80 , sMax = 89, vMax = 255)\n",
      "(hMin = 0 , sMin = -1, vMin = 17), (hMax = 80 , sMax = 89, vMax = 255)\n",
      "(hMin = 0 , sMin = -1, vMin = 65), (hMax = 80 , sMax = 89, vMax = 255)\n",
      "(hMin = 0 , sMin = -1, vMin = 112), (hMax = 80 , sMax = 89, vMax = 255)\n",
      "(hMin = 0 , sMin = -1, vMin = 176), (hMax = 80 , sMax = 89, vMax = 255)\n",
      "(hMin = 0 , sMin = -1, vMin = 255), (hMax = 80 , sMax = 89, vMax = 255)\n",
      "(hMin = 0 , sMin = -1, vMin = 0), (hMax = 80 , sMax = 89, vMax = 255)\n"
     ]
    },
    {
     "ename": "KeyboardInterrupt",
     "evalue": "",
     "output_type": "error",
     "traceback": [
      "\u001b[0;31m---------------------------------------------------------------------------\u001b[0m",
      "\u001b[0;31mKeyboardInterrupt\u001b[0m                         Traceback (most recent call last)",
      "\u001b[1;32m/Users/harysetiawan/Documents/College Project/PCD/FinalProject/hsv_range_reader.ipynb Cell 2'\u001b[0m in \u001b[0;36m<cell line: 33>\u001b[0;34m()\u001b[0m\n\u001b[1;32m     <a href='vscode-notebook-cell:/Users/harysetiawan/Documents/College%20Project/PCD/FinalProject/hsv_range_reader.ipynb#ch0000001?line=58'>59</a>\u001b[0m     \u001b[39m# Display result image\u001b[39;00m\n\u001b[1;32m     <a href='vscode-notebook-cell:/Users/harysetiawan/Documents/College%20Project/PCD/FinalProject/hsv_range_reader.ipynb#ch0000001?line=59'>60</a>\u001b[0m     cv2\u001b[39m.\u001b[39mimshow(\u001b[39m'\u001b[39m\u001b[39mimage\u001b[39m\u001b[39m'\u001b[39m, result)\n\u001b[0;32m---> <a href='vscode-notebook-cell:/Users/harysetiawan/Documents/College%20Project/PCD/FinalProject/hsv_range_reader.ipynb#ch0000001?line=60'>61</a>\u001b[0m     \u001b[39mif\u001b[39;00m cv2\u001b[39m.\u001b[39;49mwaitKey(\u001b[39m10\u001b[39;49m) \u001b[39m&\u001b[39m \u001b[39m0xFF\u001b[39m \u001b[39m==\u001b[39m \u001b[39mord\u001b[39m(\u001b[39m'\u001b[39m\u001b[39mq\u001b[39m\u001b[39m'\u001b[39m):\n\u001b[1;32m     <a href='vscode-notebook-cell:/Users/harysetiawan/Documents/College%20Project/PCD/FinalProject/hsv_range_reader.ipynb#ch0000001?line=61'>62</a>\u001b[0m         \u001b[39mbreak\u001b[39;00m\n\u001b[1;32m     <a href='vscode-notebook-cell:/Users/harysetiawan/Documents/College%20Project/PCD/FinalProject/hsv_range_reader.ipynb#ch0000001?line=63'>64</a>\u001b[0m cv2\u001b[39m.\u001b[39mdestroyAllWindows()\n",
      "\u001b[0;31mKeyboardInterrupt\u001b[0m: "
     ]
    }
   ],
   "source": [
    "import cv2\n",
    "import numpy as np\n",
    "\n",
    "def nothing(x):\n",
    "    pass\n",
    "\n",
    "# Load image\n",
    "image = cv2.imread('dataset/train/ULI/ULI_3_25.jpg')\n",
    "\n",
    "# Create a window\n",
    "cv2.namedWindow('image')\n",
    "\n",
    "# Create trackbars for color change\n",
    "# Hue is from 0-179 for Opencv\n",
    "cv2.createTrackbar('HMin', 'image', 0, 179, nothing)\n",
    "cv2.createTrackbar('SMqn', 'image', 0, 255, nothing)\n",
    "cv2.createTrackbar('VMin', 'image', 0, 255, nothing)\n",
    "cv2.createTrackbar('HMax', 'image', 0, 179, nothing)\n",
    "cv2.createTrackbar('SMax', 'image', 0, 255, nothing)\n",
    "cv2.createTrackbar('VMax', 'image', 0, 255, nothing)\n",
    "\n",
    "# Set default value for Max HSV trackbars\n",
    "cv2.setTrackbarPos('HMax', 'image', 179)\n",
    "cv2.setTrackbarPos('SMax', 'image', 255)\n",
    "cv2.setTrackbarPos('VMax', 'image', 255)\n",
    "\n",
    "# Initialize HSV min/max values\n",
    "hMin = sMin = vMin = hMax = sMax = vMax = 0\n",
    "phMin = psMin = pvMin = phMax = psMax = pvMax = 0\n",
    "\n",
    "while(1):\n",
    "    # Get current positions of all trackbars\n",
    "    hMin = cv2.getTrackbarPos('HMin', 'image')\n",
    "    sMin = cv2.getTrackbarPos('SMin', 'image')\n",
    "    vMin = cv2.getTrackbarPos('VMin', 'image')\n",
    "    hMax = cv2.getTrackbarPos('HMax', 'image')\n",
    "    sMax = cv2.getTrackbarPos('SMax', 'image')\n",
    "    vMax = cv2.getTrackbarPos('VMax', 'image')\n",
    "\n",
    "    # Set minimum and maximum HSV values to display\n",
    "    lower = np.array([hMin, sMin, vMin])\n",
    "    upper = np.array([hMax, sMax, vMax])\n",
    "\n",
    "    # Convert to HSV format and color threshold\n",
    "    hsv = cv2.cvtColor(image, cv2.COLOR_BGR2HSV)\n",
    "    mask = cv2.inRange(hsv, lower, upper)\n",
    "    result = cv2.bitwise_and(image, image, mask=mask)\n",
    "\n",
    "    # Print if there is a change in HSV value\n",
    "    if((phMin != hMin) | (psMin != sMin) | (pvMin != vMin) | (phMax != hMax) | (psMax != sMax) | (pvMax != vMax) ):\n",
    "        print(\"(hMin = %d , sMin = %d, vMin = %d), (hMax = %d , sMax = %d, vMax = %d)\" % (hMin , sMin , vMin, hMax, sMax , vMax))\n",
    "        phMin = hMin\n",
    "        psMin = sMin\n",
    "        pvMin = vMin\n",
    "        phMax = hMax\n",
    "        psMax = sMax\n",
    "        pvMax = vMax\n",
    "\n",
    "    # Display result image\n",
    "    cv2.imshow('image', result)\n",
    "    if cv2.waitKey(10) & 0xFF == ord('q'):\n",
    "        break\n",
    "\n",
    "cv2.destroyAllWindows()"
   ]
  }
 ],
 "metadata": {
  "kernelspec": {
   "display_name": "Python 3.9.12 ('venv': venv)",
   "language": "python",
   "name": "python3"
  },
  "language_info": {
   "codemirror_mode": {
    "name": "ipython",
    "version": 3
   },
   "file_extension": ".py",
   "mimetype": "text/x-python",
   "name": "python",
   "nbconvert_exporter": "python",
   "pygments_lexer": "ipython3",
   "version": "3.9.12"
  },
  "orig_nbformat": 4,
  "vscode": {
   "interpreter": {
    "hash": "d2bece30c987821ee4a04d8c27dbd412385bc7790b4b5e1e5db4f2caf599d87c"
   }
  }
 },
 "nbformat": 4,
 "nbformat_minor": 2
}
